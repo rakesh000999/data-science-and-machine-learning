{
 "cells": [
  {
   "cell_type": "markdown",
   "id": "0404ec84",
   "metadata": {},
   "source": [
    "## Introduction to NumPy"
   ]
  },
  {
   "cell_type": "markdown",
   "id": "cc9d584a",
   "metadata": {},
   "source": [
    "**NumPy** stands for **'Numerical Python'**. It is famous for efficient **arrays**. NumPy enables fast computation in Python as the underlying implementation of NumPy is in C. Thus, it is faster than Python Lists. NumPy stores the elements as `ndarray` objects.It describes the collection of items of the same type. Items in the collection can be accessed using a zero-based index. NumPy allows the efficient operations on the data structures often used in machine learning:vectors, matrices, and tensors. "
   ]
  },
  {
   "cell_type": "markdown",
   "id": "f71ee25d",
   "metadata": {},
   "source": [
    "## Installing NumPy"
   ]
  },
  {
   "cell_type": "markdown",
   "id": "16bfc7d3",
   "metadata": {},
   "source": [
    "The installation is simple. Use **pip** to install the package as `pip install numpy`. To install a specific version, the command has to be modified as `pip install numpy==x.x.x` where x.x.x is the version you want. For example, `pip install numpy==1.22.3` will install the **1.22.3** version of NumPy."
   ]
  },
  {
   "cell_type": "markdown",
   "id": "845f45bc",
   "metadata": {},
   "source": [
    "## Basic Usuage"
   ]
  },
  {
   "cell_type": "markdown",
   "id": "977298cd",
   "metadata": {},
   "source": [
    "### Importing Numpy"
   ]
  },
  {
   "cell_type": "markdown",
   "id": "31f10f6a",
   "metadata": {},
   "source": [
    "To import the numpy on any python projects, use `import numpy` command. After the import, we simply can check the numpy version installed using the command `numpy.version.version`."
   ]
  },
  {
   "cell_type": "code",
   "execution_count": 1,
   "id": "9f5641bd",
   "metadata": {},
   "outputs": [],
   "source": [
    "import numpy"
   ]
  },
  {
   "cell_type": "code",
   "execution_count": 2,
   "id": "ac22b12c",
   "metadata": {},
   "outputs": [
    {
     "data": {
      "text/plain": [
       "'1.22.3'"
      ]
     },
     "execution_count": 2,
     "metadata": {},
     "output_type": "execute_result"
    }
   ],
   "source": [
    "numpy.version.version"
   ]
  },
  {
   "cell_type": "markdown",
   "id": "16f94241",
   "metadata": {},
   "source": [
    "Alternatively, the package can be imported and aliased for easy usuage. For example, numpy can also be imported as `import numpy as np`. Now, each time we call the methods of numpy, we don't need to repeat `numpy.method_name` and can be replaced with `np.method_name`."
   ]
  },
  {
   "cell_type": "code",
   "execution_count": 3,
   "id": "bbac3368",
   "metadata": {},
   "outputs": [],
   "source": [
    "import numpy as np"
   ]
  },
  {
   "cell_type": "code",
   "execution_count": 4,
   "id": "03dc3719",
   "metadata": {},
   "outputs": [
    {
     "data": {
      "text/plain": [
       "'1.22.3'"
      ]
     },
     "execution_count": 4,
     "metadata": {},
     "output_type": "execute_result"
    }
   ],
   "source": [
    "np.version.version"
   ]
  },
  {
   "cell_type": "markdown",
   "id": "37fd708e",
   "metadata": {},
   "source": [
    "### Creating NumPy Arrays"
   ]
  },
  {
   "cell_type": "markdown",
   "id": "058dfc9f",
   "metadata": {},
   "source": [
    "To create arrays in numpy, we use `numpy.array()`. The syntax is as follows:  \n",
    "\n",
    "`numpy.array(object, dtype=None, *, copy=True, order='K', subok=False, ndmin=0, like=None)`"
   ]
  },
  {
   "cell_type": "markdown",
   "id": "1cebecaf",
   "metadata": {},
   "source": [
    "#### Creating One Dimensional Array"
   ]
  },
  {
   "cell_type": "code",
   "execution_count": 5,
   "id": "42f33d45",
   "metadata": {},
   "outputs": [
    {
     "data": {
      "text/plain": [
       "array([1, 2, 3])"
      ]
     },
     "execution_count": 5,
     "metadata": {},
     "output_type": "execute_result"
    }
   ],
   "source": [
    "vector_a = np.array([1,2,3])\n",
    "vector_a"
   ]
  },
  {
   "cell_type": "code",
   "execution_count": 6,
   "id": "20c3acef",
   "metadata": {},
   "outputs": [
    {
     "data": {
      "text/plain": [
       "numpy.ndarray"
      ]
     },
     "execution_count": 6,
     "metadata": {},
     "output_type": "execute_result"
    }
   ],
   "source": [
    "type(vector_a)"
   ]
  },
  {
   "cell_type": "code",
   "execution_count": 7,
   "id": "e58f4d62",
   "metadata": {},
   "outputs": [
    {
     "data": {
      "text/plain": [
       "dtype('int64')"
      ]
     },
     "execution_count": 7,
     "metadata": {},
     "output_type": "execute_result"
    }
   ],
   "source": [
    "vector_a.dtype"
   ]
  },
  {
   "cell_type": "code",
   "execution_count": 8,
   "id": "c8082833",
   "metadata": {},
   "outputs": [
    {
     "data": {
      "text/plain": [
       "array(['1', '2', 'a'], dtype='<U21')"
      ]
     },
     "execution_count": 8,
     "metadata": {},
     "output_type": "execute_result"
    }
   ],
   "source": [
    "vector_b = np.array([1,2,'a'])\n",
    "vector_b"
   ]
  },
  {
   "cell_type": "code",
   "execution_count": 9,
   "id": "b5bc5492",
   "metadata": {},
   "outputs": [
    {
     "data": {
      "text/plain": [
       "array([1. , 2. , 3.2])"
      ]
     },
     "execution_count": 9,
     "metadata": {},
     "output_type": "execute_result"
    }
   ],
   "source": [
    "vector_c = np.array([1,2,3.2])\n",
    "vector_c"
   ]
  },
  {
   "cell_type": "code",
   "execution_count": 10,
   "id": "6192c4fd",
   "metadata": {},
   "outputs": [
    {
     "data": {
      "text/plain": [
       "dtype('float64')"
      ]
     },
     "execution_count": 10,
     "metadata": {},
     "output_type": "execute_result"
    }
   ],
   "source": [
    "vector_c.dtype"
   ]
  },
  {
   "cell_type": "code",
   "execution_count": 11,
   "id": "67e9e147",
   "metadata": {},
   "outputs": [
    {
     "data": {
      "text/plain": [
       "array(['a', 'b', 'c'], dtype='<U1')"
      ]
     },
     "execution_count": 11,
     "metadata": {},
     "output_type": "execute_result"
    }
   ],
   "source": [
    "vector_d = np.array(['a','b','c'], dtype=str)\n",
    "vector_d"
   ]
  },
  {
   "cell_type": "code",
   "execution_count": 12,
   "id": "2ee0189c",
   "metadata": {},
   "outputs": [
    {
     "data": {
      "text/plain": [
       "dtype('<U1')"
      ]
     },
     "execution_count": 12,
     "metadata": {},
     "output_type": "execute_result"
    }
   ],
   "source": [
    "vector_d.dtype"
   ]
  },
  {
   "cell_type": "markdown",
   "id": "070f8f1e",
   "metadata": {},
   "source": [
    "#### Check the shape of the arrray"
   ]
  },
  {
   "cell_type": "code",
   "execution_count": 13,
   "id": "ef1725ad",
   "metadata": {},
   "outputs": [
    {
     "data": {
      "text/plain": [
       "(3,)"
      ]
     },
     "execution_count": 13,
     "metadata": {},
     "output_type": "execute_result"
    }
   ],
   "source": [
    "vector_d.shape"
   ]
  },
  {
   "cell_type": "markdown",
   "id": "d21ff71c",
   "metadata": {},
   "source": [
    "Integers at every index tells about the number of elements the corresponding dimension has."
   ]
  },
  {
   "cell_type": "markdown",
   "id": "c6e19bab",
   "metadata": {},
   "source": [
    "#### Creating Multidimensional Array"
   ]
  },
  {
   "cell_type": "code",
   "execution_count": 14,
   "id": "65c3e894",
   "metadata": {},
   "outputs": [
    {
     "data": {
      "text/plain": [
       "array([[1, 2, 3],\n",
       "       [3, 4, 5]])"
      ]
     },
     "execution_count": 14,
     "metadata": {},
     "output_type": "execute_result"
    }
   ],
   "source": [
    "multi_a = np.array([[1,2,3],[3,4,5]])\n",
    "multi_a"
   ]
  },
  {
   "cell_type": "code",
   "execution_count": 15,
   "id": "2af8785e",
   "metadata": {},
   "outputs": [
    {
     "data": {
      "text/plain": [
       "(2, 3)"
      ]
     },
     "execution_count": 15,
     "metadata": {},
     "output_type": "execute_result"
    }
   ],
   "source": [
    "multi_a.shape"
   ]
  },
  {
   "cell_type": "code",
   "execution_count": 18,
   "id": "38bff92e",
   "metadata": {},
   "outputs": [
    {
     "data": {
      "text/plain": [
       "array([[1, 2, 3],\n",
       "       [3, 4, 5],\n",
       "       [4, 5, 6]])"
      ]
     },
     "execution_count": 18,
     "metadata": {},
     "output_type": "execute_result"
    }
   ],
   "source": [
    "multi_b = np.array([[1,2,3],[3,4,5],[4,5,6]])\n",
    "multi_b"
   ]
  },
  {
   "cell_type": "code",
   "execution_count": 19,
   "id": "bb2ab707",
   "metadata": {},
   "outputs": [
    {
     "data": {
      "text/plain": [
       "(3, 3)"
      ]
     },
     "execution_count": 19,
     "metadata": {},
     "output_type": "execute_result"
    }
   ],
   "source": [
    "multi_b.shape"
   ]
  },
  {
   "cell_type": "code",
   "execution_count": 20,
   "id": "7970073b",
   "metadata": {},
   "outputs": [
    {
     "data": {
      "text/plain": [
       "array([[1, 2, 3],\n",
       "       [3, 4, 5],\n",
       "       [4, 5, 6]])"
      ]
     },
     "execution_count": 20,
     "metadata": {},
     "output_type": "execute_result"
    }
   ],
   "source": [
    "multi_c = np.array([[1,2,3],[3,4,5],[4,5,6]])\n",
    "multi_c"
   ]
  },
  {
   "cell_type": "code",
   "execution_count": 21,
   "id": "bc14128c",
   "metadata": {},
   "outputs": [
    {
     "data": {
      "text/plain": [
       "(3, 3)"
      ]
     },
     "execution_count": 21,
     "metadata": {},
     "output_type": "execute_result"
    }
   ],
   "source": [
    "multi_c.shape"
   ]
  },
  {
   "cell_type": "code",
   "execution_count": 22,
   "id": "32c859ed",
   "metadata": {},
   "outputs": [
    {
     "data": {
      "text/plain": [
       "array([[[[[1, 2, 3]]]]])"
      ]
     },
     "execution_count": 22,
     "metadata": {},
     "output_type": "execute_result"
    }
   ],
   "source": [
    "multi_d = np.array([1, 2, 3], ndmin=5)\n",
    "multi_d"
   ]
  },
  {
   "cell_type": "code",
   "execution_count": 23,
   "id": "7877c130",
   "metadata": {},
   "outputs": [
    {
     "data": {
      "text/plain": [
       "(1, 1, 1, 1, 3)"
      ]
     },
     "execution_count": 23,
     "metadata": {},
     "output_type": "execute_result"
    }
   ],
   "source": [
    "multi_d.shape"
   ]
  },
  {
   "cell_type": "markdown",
   "id": "6f320aed",
   "metadata": {},
   "source": [
    "#### Using Numpy Matrices"
   ]
  },
  {
   "cell_type": "code",
   "execution_count": 24,
   "id": "b829c409",
   "metadata": {},
   "outputs": [
    {
     "data": {
      "text/plain": [
       "matrix([[1, 2],\n",
       "        [3, 4]])"
      ]
     },
     "execution_count": 24,
     "metadata": {},
     "output_type": "execute_result"
    }
   ],
   "source": [
    "mat_a = numpy.mat([[1,2],[3,4]])\n",
    "mat_a"
   ]
  },
  {
   "cell_type": "code",
   "execution_count": 25,
   "id": "969910c9",
   "metadata": {},
   "outputs": [
    {
     "data": {
      "text/plain": [
       "4"
      ]
     },
     "execution_count": 25,
     "metadata": {},
     "output_type": "execute_result"
    }
   ],
   "source": [
    "mat_a.size"
   ]
  },
  {
   "cell_type": "code",
   "execution_count": 26,
   "id": "6adcf2ca",
   "metadata": {},
   "outputs": [
    {
     "data": {
      "text/plain": [
       "matrix([[1, 2],\n",
       "        [3, 4]])"
      ]
     },
     "execution_count": 26,
     "metadata": {},
     "output_type": "execute_result"
    }
   ],
   "source": [
    "mat_b = np.mat('1 2; 3 4')\n",
    "mat_b"
   ]
  },
  {
   "cell_type": "code",
   "execution_count": 29,
   "id": "4bfdc691",
   "metadata": {},
   "outputs": [
    {
     "data": {
      "text/plain": [
       "matrix([[1, 2],\n",
       "        [3, 4],\n",
       "        [5, 6]])"
      ]
     },
     "execution_count": 29,
     "metadata": {},
     "output_type": "execute_result"
    }
   ],
   "source": [
    "mat_c = np.mat('1 2; 3 4; 5 6')\n",
    "mat_c"
   ]
  },
  {
   "cell_type": "code",
   "execution_count": 30,
   "id": "2529d68d",
   "metadata": {},
   "outputs": [
    {
     "data": {
      "text/plain": [
       "2"
      ]
     },
     "execution_count": 30,
     "metadata": {},
     "output_type": "execute_result"
    }
   ],
   "source": [
    "mat_c.ndim"
   ]
  },
  {
   "cell_type": "markdown",
   "id": "e3644878",
   "metadata": {},
   "source": [
    "#### Creating arrays with Arange\n",
    "The `arange` function is similar to Python's `range` function. This can be used to create numpy arrays."
   ]
  },
  {
   "cell_type": "code",
   "execution_count": 27,
   "id": "1fa9dde4",
   "metadata": {},
   "outputs": [
    {
     "data": {
      "text/plain": [
       "array([ 0,  1,  2,  3,  4,  5,  6,  7,  8,  9, 10, 11, 12, 13, 14, 15, 16,\n",
       "       17, 18, 19])"
      ]
     },
     "execution_count": 27,
     "metadata": {},
     "output_type": "execute_result"
    }
   ],
   "source": [
    "arange_a = np.arange(20)\n",
    "arange_a"
   ]
  },
  {
   "cell_type": "code",
   "execution_count": 28,
   "id": "0eb5d7e7",
   "metadata": {},
   "outputs": [
    {
     "data": {
      "text/plain": [
       "array([ 2,  3,  4,  5,  6,  7,  8,  9, 10, 11, 12, 13, 14, 15, 16, 17, 18,\n",
       "       19])"
      ]
     },
     "execution_count": 28,
     "metadata": {},
     "output_type": "execute_result"
    }
   ],
   "source": [
    "arange_b = np.arange(2,20)\n",
    "arange_b"
   ]
  },
  {
   "cell_type": "code",
   "execution_count": 29,
   "id": "dca75619",
   "metadata": {},
   "outputs": [
    {
     "data": {
      "text/plain": [
       "array([ 2,  4,  6,  8, 10, 12, 14, 16, 18])"
      ]
     },
     "execution_count": 29,
     "metadata": {},
     "output_type": "execute_result"
    }
   ],
   "source": [
    "arange_c = np.arange(2,20,2)\n",
    "arange_c"
   ]
  },
  {
   "cell_type": "markdown",
   "id": "e4658afd",
   "metadata": {},
   "source": [
    "#### Creating arrays of ones, zeros and empty\n",
    "Array of ones and zeros of any dimension can be created from numpy.  \n",
    "`zeros(dim)` will return a np.array of `dim` dimensions initialised with 0. Note that `dim` should be a `tuple`. \n",
    "\n",
    "`zeros_like(array)` will return a np.array of same dimensions as of `array` initialised with zeros. \n",
    "\n",
    "The functionality is same with `ones` , and `ones_like` except of course the initialization is done with ones. \n",
    "\n",
    "The functionality is same with `empty`, and `empty_like` which will create numpy arrays but won't initialise it with anything (hence, faster) By default, all the values in the array will have garbage values. \n"
   ]
  },
  {
   "cell_type": "code",
   "execution_count": 33,
   "id": "ee1749a0",
   "metadata": {},
   "outputs": [
    {
     "ename": "TypeError",
     "evalue": "Cannot interpret '2' as a data type",
     "output_type": "error",
     "traceback": [
      "\u001b[0;31m---------------------------------------------------------------------------\u001b[0m",
      "\u001b[0;31mTypeError\u001b[0m                                 Traceback (most recent call last)",
      "Input \u001b[0;32mIn [33]\u001b[0m, in \u001b[0;36m<cell line: 1>\u001b[0;34m()\u001b[0m\n\u001b[0;32m----> 1\u001b[0m zeros_demo \u001b[38;5;241m=\u001b[39m \u001b[43mnp\u001b[49m\u001b[38;5;241;43m.\u001b[39;49m\u001b[43mzeros\u001b[49m\u001b[43m(\u001b[49m\u001b[38;5;241;43m3\u001b[39;49m\u001b[43m,\u001b[49m\u001b[38;5;241;43m2\u001b[39;49m\u001b[43m)\u001b[49m\n\u001b[1;32m      2\u001b[0m zeros_demo\n",
      "\u001b[0;31mTypeError\u001b[0m: Cannot interpret '2' as a data type"
     ]
    }
   ],
   "source": [
    "zeros_demo = np.zeros(3,2)\n",
    "zeros_demo"
   ]
  },
  {
   "cell_type": "code",
   "execution_count": 34,
   "id": "186c1606",
   "metadata": {},
   "outputs": [
    {
     "data": {
      "text/plain": [
       "array([0., 0., 0.])"
      ]
     },
     "execution_count": 34,
     "metadata": {},
     "output_type": "execute_result"
    }
   ],
   "source": [
    "zeros_a = np.zeros((3))\n",
    "zeros_a"
   ]
  },
  {
   "cell_type": "code",
   "execution_count": 35,
   "id": "c455dfa4",
   "metadata": {},
   "outputs": [
    {
     "data": {
      "text/plain": [
       "array([[0., 0., 0., 0.],\n",
       "       [0., 0., 0., 0.],\n",
       "       [0., 0., 0., 0.]])"
      ]
     },
     "execution_count": 35,
     "metadata": {},
     "output_type": "execute_result"
    }
   ],
   "source": [
    "zeros_b = np.zeros((3,4))\n",
    "zeros_b"
   ]
  },
  {
   "cell_type": "code",
   "execution_count": 36,
   "id": "e955c5bf",
   "metadata": {},
   "outputs": [
    {
     "data": {
      "text/plain": [
       "array([[0, 0, 0, 0],\n",
       "       [0, 0, 0, 0],\n",
       "       [0, 0, 0, 0],\n",
       "       [0, 0, 0, 0]])"
      ]
     },
     "execution_count": 36,
     "metadata": {},
     "output_type": "execute_result"
    }
   ],
   "source": [
    "zeros_c = np.zeros((4,4), dtype=int)\n",
    "zeros_c"
   ]
  },
  {
   "cell_type": "code",
   "execution_count": 37,
   "id": "4698ad22",
   "metadata": {},
   "outputs": [
    {
     "data": {
      "text/plain": [
       "array([0., 0., 0.])"
      ]
     },
     "execution_count": 37,
     "metadata": {},
     "output_type": "execute_result"
    }
   ],
   "source": [
    "zeros_like_a = np.zeros_like(zeros_a)\n",
    "zeros_like_a"
   ]
  },
  {
   "cell_type": "code",
   "execution_count": 38,
   "id": "acfaf592",
   "metadata": {},
   "outputs": [
    {
     "data": {
      "text/plain": [
       "array([[0, 0, 0, 0],\n",
       "       [0, 0, 0, 0],\n",
       "       [0, 0, 0, 0],\n",
       "       [0, 0, 0, 0]])"
      ]
     },
     "execution_count": 38,
     "metadata": {},
     "output_type": "execute_result"
    }
   ],
   "source": [
    "zeros_like_c = np.zeros_like(zeros_c)\n",
    "zeros_like_c"
   ]
  },
  {
   "cell_type": "code",
   "execution_count": 39,
   "id": "3ad03766",
   "metadata": {},
   "outputs": [
    {
     "data": {
      "text/plain": [
       "array([[1., 1., 1.],\n",
       "       [1., 1., 1.],\n",
       "       [1., 1., 1.],\n",
       "       [1., 1., 1.],\n",
       "       [1., 1., 1.],\n",
       "       [1., 1., 1.],\n",
       "       [1., 1., 1.]])"
      ]
     },
     "execution_count": 39,
     "metadata": {},
     "output_type": "execute_result"
    }
   ],
   "source": [
    "ones_a = np.ones((7,3))\n",
    "ones_a"
   ]
  },
  {
   "cell_type": "markdown",
   "id": "622daf16",
   "metadata": {},
   "source": [
    "#### Task: Create an array of shape(4,3) with all the elements '7' and dtype 'int' using the above concept"
   ]
  },
  {
   "cell_type": "code",
   "execution_count": 36,
   "id": "6b629b33",
   "metadata": {},
   "outputs": [
    {
     "data": {
      "text/plain": [
       "array([[7, 7, 7],\n",
       "       [7, 7, 7],\n",
       "       [7, 7, 7],\n",
       "       [7, 7, 7]])"
      ]
     },
     "execution_count": 36,
     "metadata": {},
     "output_type": "execute_result"
    }
   ],
   "source": [
    "task = 7*np.ones((4,3), dtype = int)\n",
    "task"
   ]
  },
  {
   "cell_type": "code",
   "execution_count": 37,
   "id": "7ac85b48",
   "metadata": {},
   "outputs": [
    {
     "data": {
      "text/plain": [
       "array([[ 1.37538943e-316,  0.00000000e+000,  1.37874196e-316,\n",
       "         8.65931655e+003,  6.90863336e-310],\n",
       "       [ 1.37878860e-316, -3.09844609e+026,  6.90863336e-310,\n",
       "         1.37883524e-316,  1.21325445e-165],\n",
       "       [ 6.90863336e-310,  1.37888188e-316, -6.99222808e+101,\n",
       "         6.90863339e-310,  1.37892852e-316],\n",
       "       [ 6.76590670e+041,  6.90863336e-310,  6.90863336e-310,\n",
       "         2.93873763e+294,  6.90863336e-310]])"
      ]
     },
     "execution_count": 37,
     "metadata": {},
     "output_type": "execute_result"
    }
   ],
   "source": [
    "empty_a = np.empty((4,5))\n",
    "empty_a"
   ]
  },
  {
   "cell_type": "code",
   "execution_count": 38,
   "id": "edf061c9",
   "metadata": {},
   "outputs": [
    {
     "data": {
      "text/plain": [
       "array([[ 1.37538943e-316,  0.00000000e+000,  1.37874196e-316,\n",
       "         8.65931655e+003,  6.90863336e-310],\n",
       "       [ 1.37878860e-316, -3.09844609e+026,  6.90863336e-310,\n",
       "         1.37883524e-316,  1.21325445e-165],\n",
       "       [ 6.90863336e-310,  1.37888188e-316, -6.99222808e+101,\n",
       "         6.90863339e-310,  1.37892852e-316],\n",
       "       [ 6.76590670e+041,  6.90863336e-310,  6.90863336e-310,\n",
       "         2.93873763e+294,  6.90863336e-310]])"
      ]
     },
     "execution_count": 38,
     "metadata": {},
     "output_type": "execute_result"
    }
   ],
   "source": [
    "empty_like_a = np.empty_like(empty_a)\n",
    "empty_like_a"
   ]
  },
  {
   "cell_type": "markdown",
   "id": "6703c27f",
   "metadata": {},
   "source": [
    "### Accessing and Slicing NumPy Arrays\n",
    "To access the elements in an array, we simply pass the index of desired element. "
   ]
  },
  {
   "cell_type": "code",
   "execution_count": 39,
   "id": "f12fd0e9",
   "metadata": {},
   "outputs": [
    {
     "data": {
      "text/plain": [
       "array([1, 2, 3, 5])"
      ]
     },
     "execution_count": 39,
     "metadata": {},
     "output_type": "execute_result"
    }
   ],
   "source": [
    "access_a = np.array([1,2,3,5])\n",
    "access_a"
   ]
  },
  {
   "cell_type": "code",
   "execution_count": 40,
   "id": "9cb1883d",
   "metadata": {},
   "outputs": [
    {
     "data": {
      "text/plain": [
       "5"
      ]
     },
     "execution_count": 40,
     "metadata": {},
     "output_type": "execute_result"
    }
   ],
   "source": [
    "access_a[3]"
   ]
  },
  {
   "cell_type": "code",
   "execution_count": 41,
   "id": "790633bc",
   "metadata": {},
   "outputs": [
    {
     "data": {
      "text/plain": [
       "array([[1, 2, 3],\n",
       "       [3, 4, 5]])"
      ]
     },
     "execution_count": 41,
     "metadata": {},
     "output_type": "execute_result"
    }
   ],
   "source": [
    "access_b = np.array([[1,2,3],[3,4,5]])\n",
    "access_b"
   ]
  },
  {
   "cell_type": "code",
   "execution_count": 42,
   "id": "f9be249f",
   "metadata": {},
   "outputs": [
    {
     "data": {
      "text/plain": [
       "array([3, 4, 5])"
      ]
     },
     "execution_count": 42,
     "metadata": {},
     "output_type": "execute_result"
    }
   ],
   "source": [
    "access_b[1]"
   ]
  },
  {
   "cell_type": "markdown",
   "id": "7190be51",
   "metadata": {},
   "source": [
    "Slicing refers to extracting the array elements from one given index to another given index.\n",
    "\n",
    "We pass slice instead of index like this: [start:end].\n",
    "\n",
    "We can also define the step, like this: [start:end:step].\n",
    "\n",
    "If we don't pass start its considered 0\n",
    "\n",
    "If we don't pass end its considered length of array in that dimension\n",
    "\n",
    "If we don't pass step its considered 1"
   ]
  },
  {
   "cell_type": "code",
   "execution_count": 43,
   "id": "86247210",
   "metadata": {},
   "outputs": [
    {
     "data": {
      "text/plain": [
       "array([0, 1, 2, 3, 4, 5, 6, 7, 8, 9])"
      ]
     },
     "execution_count": 43,
     "metadata": {},
     "output_type": "execute_result"
    }
   ],
   "source": [
    "slice_a = np.arange(10)\n",
    "slice_a"
   ]
  },
  {
   "cell_type": "code",
   "execution_count": 44,
   "id": "5723a55e",
   "metadata": {},
   "outputs": [
    {
     "data": {
      "text/plain": [
       "array([0, 1, 2, 3, 4, 5, 6, 7, 8, 9])"
      ]
     },
     "execution_count": 44,
     "metadata": {},
     "output_type": "execute_result"
    }
   ],
   "source": [
    "slice_a[:]"
   ]
  },
  {
   "cell_type": "code",
   "execution_count": 45,
   "id": "6d44c174",
   "metadata": {},
   "outputs": [
    {
     "data": {
      "text/plain": [
       "array([0, 1, 2, 3])"
      ]
     },
     "execution_count": 45,
     "metadata": {},
     "output_type": "execute_result"
    }
   ],
   "source": [
    "slice_a[:4]"
   ]
  },
  {
   "cell_type": "code",
   "execution_count": 46,
   "id": "c823eba3",
   "metadata": {},
   "outputs": [
    {
     "data": {
      "text/plain": [
       "array([1, 2, 3, 4, 5, 6])"
      ]
     },
     "execution_count": 46,
     "metadata": {},
     "output_type": "execute_result"
    }
   ],
   "source": [
    "slice_a[1:7]"
   ]
  },
  {
   "cell_type": "code",
   "execution_count": 47,
   "id": "dbb54c8b",
   "metadata": {},
   "outputs": [
    {
     "data": {
      "text/plain": [
       "array([0, 2, 4, 6, 8])"
      ]
     },
     "execution_count": 47,
     "metadata": {},
     "output_type": "execute_result"
    }
   ],
   "source": [
    "slice_a[::2]"
   ]
  },
  {
   "cell_type": "markdown",
   "id": "887e6f12",
   "metadata": {},
   "source": [
    "Slicing NumPy arrays is similar to that of Python lists. One main distinction in Python list and NumPy array is that the slice __is not the copy, but the original array. Hence, if any operations on the slice will be reflected in the original array.__"
   ]
  },
  {
   "cell_type": "code",
   "execution_count": 48,
   "id": "2aebc081",
   "metadata": {},
   "outputs": [
    {
     "data": {
      "text/plain": [
       "array([ 0,  1,  2,  3,  4,  5,  6,  7,  8,  9, 10, 11, 12, 13, 14, 15, 16,\n",
       "       17, 18, 19])"
      ]
     },
     "execution_count": 48,
     "metadata": {},
     "output_type": "execute_result"
    }
   ],
   "source": [
    "slice_b = np.arange(20)\n",
    "slice_b"
   ]
  },
  {
   "cell_type": "code",
   "execution_count": 49,
   "id": "eb7ec608",
   "metadata": {},
   "outputs": [],
   "source": [
    "slice_b[10:15] = 7"
   ]
  },
  {
   "cell_type": "code",
   "execution_count": 50,
   "id": "0e933773",
   "metadata": {},
   "outputs": [
    {
     "data": {
      "text/plain": [
       "array([ 0,  1,  2,  3,  4,  5,  6,  7,  8,  9,  7,  7,  7,  7,  7, 15, 16,\n",
       "       17, 18, 19])"
      ]
     },
     "execution_count": 50,
     "metadata": {},
     "output_type": "execute_result"
    }
   ],
   "source": [
    "slice_b"
   ]
  },
  {
   "cell_type": "markdown",
   "id": "3464b7ae",
   "metadata": {},
   "source": [
    "To avoid above scenario, we can use `copy()`"
   ]
  },
  {
   "cell_type": "code",
   "execution_count": 51,
   "id": "64a87944",
   "metadata": {},
   "outputs": [
    {
     "data": {
      "text/plain": [
       "array([ 0,  1,  2,  3,  4,  5,  6,  7,  8,  9, 10, 11, 12, 13, 14, 15, 16,\n",
       "       17, 18, 19])"
      ]
     },
     "execution_count": 51,
     "metadata": {},
     "output_type": "execute_result"
    }
   ],
   "source": [
    "slice_c = np.arange(20)\n",
    "slice_c"
   ]
  },
  {
   "cell_type": "code",
   "execution_count": 52,
   "id": "8dad6254",
   "metadata": {},
   "outputs": [],
   "source": [
    "copy = slice_c.copy()\n",
    "copy[10:15] = 7"
   ]
  },
  {
   "cell_type": "code",
   "execution_count": 53,
   "id": "5c765ca7",
   "metadata": {},
   "outputs": [
    {
     "data": {
      "text/plain": [
       "array([ 0,  1,  2,  3,  4,  5,  6,  7,  8,  9,  7,  7,  7,  7,  7, 15, 16,\n",
       "       17, 18, 19])"
      ]
     },
     "execution_count": 53,
     "metadata": {},
     "output_type": "execute_result"
    }
   ],
   "source": [
    "copy"
   ]
  },
  {
   "cell_type": "code",
   "execution_count": 54,
   "id": "7041ba3a",
   "metadata": {},
   "outputs": [
    {
     "data": {
      "text/plain": [
       "array([ 0,  1,  2,  3,  4,  5,  6,  7,  8,  9, 10, 11, 12, 13, 14, 15, 16,\n",
       "       17, 18, 19])"
      ]
     },
     "execution_count": 54,
     "metadata": {},
     "output_type": "execute_result"
    }
   ],
   "source": [
    "slice_c"
   ]
  },
  {
   "cell_type": "code",
   "execution_count": 40,
   "id": "ba777ce9",
   "metadata": {},
   "outputs": [
    {
     "name": "stdout",
     "output_type": "stream",
     "text": [
      "The Zen of Python, by Tim Peters\n",
      "\n",
      "Beautiful is better than ugly.\n",
      "Explicit is better than implicit.\n",
      "Simple is better than complex.\n",
      "Complex is better than complicated.\n",
      "Flat is better than nested.\n",
      "Sparse is better than dense.\n",
      "Readability counts.\n",
      "Special cases aren't special enough to break the rules.\n",
      "Although practicality beats purity.\n",
      "Errors should never pass silently.\n",
      "Unless explicitly silenced.\n",
      "In the face of ambiguity, refuse the temptation to guess.\n",
      "There should be one-- and preferably only one --obvious way to do it.\n",
      "Although that way may not be obvious at first unless you're Dutch.\n",
      "Now is better than never.\n",
      "Although never is often better than *right* now.\n",
      "If the implementation is hard to explain, it's a bad idea.\n",
      "If the implementation is easy to explain, it may be a good idea.\n",
      "Namespaces are one honking great idea -- let's do more of those!\n"
     ]
    }
   ],
   "source": [
    "import this"
   ]
  },
  {
   "cell_type": "code",
   "execution_count": 55,
   "id": "41561b1e",
   "metadata": {},
   "outputs": [
    {
     "data": {
      "text/plain": [
       "array([[1, 2, 3],\n",
       "       [4, 5, 6]])"
      ]
     },
     "execution_count": 55,
     "metadata": {},
     "output_type": "execute_result"
    }
   ],
   "source": [
    "slice_multi_dim_a = np.array([[1,2,3],[4,5,6]])\n",
    "slice_multi_dim_a"
   ]
  },
  {
   "cell_type": "code",
   "execution_count": 56,
   "id": "f2dfe021",
   "metadata": {},
   "outputs": [
    {
     "data": {
      "text/plain": [
       "array([[1, 2, 3],\n",
       "       [4, 5, 6]])"
      ]
     },
     "execution_count": 56,
     "metadata": {},
     "output_type": "execute_result"
    }
   ],
   "source": [
    "slice_multi_dim_a[:]"
   ]
  },
  {
   "cell_type": "code",
   "execution_count": 57,
   "id": "84d295c6",
   "metadata": {},
   "outputs": [
    {
     "data": {
      "text/plain": [
       "array([1, 4])"
      ]
     },
     "execution_count": 57,
     "metadata": {},
     "output_type": "execute_result"
    }
   ],
   "source": [
    "slice_multi_dim_a[:,0]"
   ]
  },
  {
   "cell_type": "code",
   "execution_count": 58,
   "id": "87dcfa25",
   "metadata": {},
   "outputs": [
    {
     "data": {
      "text/plain": [
       "array([[1, 2],\n",
       "       [4, 5]])"
      ]
     },
     "execution_count": 58,
     "metadata": {},
     "output_type": "execute_result"
    }
   ],
   "source": [
    "slice_multi_dim_a[:,0:2]"
   ]
  },
  {
   "cell_type": "code",
   "execution_count": 59,
   "id": "3fd00aa4",
   "metadata": {},
   "outputs": [
    {
     "data": {
      "text/plain": [
       "array([[1, 2, 3],\n",
       "       [4, 5, 6]])"
      ]
     },
     "execution_count": 59,
     "metadata": {},
     "output_type": "execute_result"
    }
   ],
   "source": [
    "slice_multi_dim_b = np.array([[1,2,3],[4,5,6]])\n",
    "slice_multi_dim_b"
   ]
  },
  {
   "cell_type": "code",
   "execution_count": 60,
   "id": "ed33d413",
   "metadata": {},
   "outputs": [
    {
     "data": {
      "text/plain": [
       "array([1, 2, 3])"
      ]
     },
     "execution_count": 60,
     "metadata": {},
     "output_type": "execute_result"
    }
   ],
   "source": [
    "slice_multi_dim_b[0,:]"
   ]
  },
  {
   "cell_type": "markdown",
   "id": "cd24e2b7",
   "metadata": {},
   "source": [
    "#### Boolean Indexing\n",
    "Boolean array indexing lets you pick out arbitrary elements of an array. Frequently this type of indexing is used to select the elements of an array that satisfy some condition."
   ]
  },
  {
   "cell_type": "code",
   "execution_count": 61,
   "id": "160c3a29",
   "metadata": {},
   "outputs": [],
   "source": [
    "bool_a = np.array([[1,2], [3, 4], [5, 6]])\n",
    "bool_idx = (bool_a > 2)"
   ]
  },
  {
   "cell_type": "code",
   "execution_count": 62,
   "id": "c619ff5e",
   "metadata": {},
   "outputs": [
    {
     "data": {
      "text/plain": [
       "array([[False, False],\n",
       "       [ True,  True],\n",
       "       [ True,  True]])"
      ]
     },
     "execution_count": 62,
     "metadata": {},
     "output_type": "execute_result"
    }
   ],
   "source": [
    "bool_idx"
   ]
  },
  {
   "cell_type": "code",
   "execution_count": 63,
   "id": "35486ec7",
   "metadata": {},
   "outputs": [
    {
     "data": {
      "text/plain": [
       "array([3, 4, 5, 6])"
      ]
     },
     "execution_count": 63,
     "metadata": {},
     "output_type": "execute_result"
    }
   ],
   "source": [
    "bool_a[bool_idx]"
   ]
  },
  {
   "cell_type": "code",
   "execution_count": 64,
   "id": "f81249fb",
   "metadata": {},
   "outputs": [
    {
     "data": {
      "text/plain": [
       "array([ True, False, False, False])"
      ]
     },
     "execution_count": 64,
     "metadata": {},
     "output_type": "execute_result"
    }
   ],
   "source": [
    "bool_b = np.array(['Python', 'Java', 'Ruby', 'Rust'])\n",
    "bool_b == 'Python'"
   ]
  },
  {
   "cell_type": "markdown",
   "id": "57312aa1",
   "metadata": {},
   "source": [
    "To work with multiple boolean conditions, we use **|**, **&** operators but not the Python operators **or** and **and**."
   ]
  },
  {
   "cell_type": "code",
   "execution_count": 65,
   "id": "2a26d2a1",
   "metadata": {},
   "outputs": [
    {
     "data": {
      "text/plain": [
       "array([ True, False,  True, False])"
      ]
     },
     "execution_count": 65,
     "metadata": {},
     "output_type": "execute_result"
    }
   ],
   "source": [
    "(bool_b == 'Python') | (bool_b == 'Ruby')"
   ]
  },
  {
   "cell_type": "markdown",
   "id": "ef2139d3",
   "metadata": {},
   "source": [
    "#### Masking and Indexing"
   ]
  },
  {
   "cell_type": "code",
   "execution_count": 66,
   "id": "b64a2ed9",
   "metadata": {},
   "outputs": [],
   "source": [
    "mask_array_a = np.linspace(5, 50, 24, dtype=int).reshape(4, -1)"
   ]
  },
  {
   "cell_type": "code",
   "execution_count": 67,
   "id": "b0d0f8e4",
   "metadata": {},
   "outputs": [
    {
     "name": "stdout",
     "output_type": "stream",
     "text": [
      " linspace(start, stop, num=50, endpoint=True, retstep=False, dtype=None,\n",
      "          axis=0)\n",
      "\n",
      "Return evenly spaced numbers over a specified interval.\n",
      "\n",
      "Returns `num` evenly spaced samples, calculated over the\n",
      "interval [`start`, `stop`].\n",
      "\n",
      "The endpoint of the interval can optionally be excluded.\n",
      "\n",
      ".. versionchanged:: 1.16.0\n",
      "    Non-scalar `start` and `stop` are now supported.\n",
      "\n",
      ".. versionchanged:: 1.20.0\n",
      "    Values are rounded towards ``-inf`` instead of ``0`` when an\n",
      "    integer ``dtype`` is specified. The old behavior can\n",
      "    still be obtained with ``np.linspace(start, stop, num).astype(int)``\n",
      "\n",
      "Parameters\n",
      "----------\n",
      "start : array_like\n",
      "    The starting value of the sequence.\n",
      "stop : array_like\n",
      "    The end value of the sequence, unless `endpoint` is set to False.\n",
      "    In that case, the sequence consists of all but the last of ``num + 1``\n",
      "    evenly spaced samples, so that `stop` is excluded.  Note that the step\n",
      "    size changes when `endpoint` is False.\n",
      "num : int, optional\n",
      "    Number of samples to generate. Default is 50. Must be non-negative.\n",
      "endpoint : bool, optional\n",
      "    If True, `stop` is the last sample. Otherwise, it is not included.\n",
      "    Default is True.\n",
      "retstep : bool, optional\n",
      "    If True, return (`samples`, `step`), where `step` is the spacing\n",
      "    between samples.\n",
      "dtype : dtype, optional\n",
      "    The type of the output array.  If `dtype` is not given, the data type\n",
      "    is inferred from `start` and `stop`. The inferred dtype will never be\n",
      "    an integer; `float` is chosen even if the arguments would produce an\n",
      "    array of integers.\n",
      "\n",
      "    .. versionadded:: 1.9.0\n",
      "\n",
      "axis : int, optional\n",
      "    The axis in the result to store the samples.  Relevant only if start\n",
      "    or stop are array-like.  By default (0), the samples will be along a\n",
      "    new axis inserted at the beginning. Use -1 to get an axis at the end.\n",
      "\n",
      "    .. versionadded:: 1.16.0\n",
      "\n",
      "Returns\n",
      "-------\n",
      "samples : ndarray\n",
      "    There are `num` equally spaced samples in the closed interval\n",
      "    ``[start, stop]`` or the half-open interval ``[start, stop)``\n",
      "    (depending on whether `endpoint` is True or False).\n",
      "step : float, optional\n",
      "    Only returned if `retstep` is True\n",
      "\n",
      "    Size of spacing between samples.\n",
      "\n",
      "\n",
      "See Also\n",
      "--------\n",
      "arange : Similar to `linspace`, but uses a step size (instead of the\n",
      "         number of samples).\n",
      "geomspace : Similar to `linspace`, but with numbers spaced evenly on a log\n",
      "            scale (a geometric progression).\n",
      "logspace : Similar to `geomspace`, but with the end points specified as\n",
      "           logarithms.\n",
      "\n",
      "Examples\n",
      "--------\n",
      ">>> np.linspace(2.0, 3.0, num=5)\n",
      "array([2.  , 2.25, 2.5 , 2.75, 3.  ])\n",
      ">>> np.linspace(2.0, 3.0, num=5, endpoint=False)\n",
      "array([2. ,  2.2,  2.4,  2.6,  2.8])\n",
      ">>> np.linspace(2.0, 3.0, num=5, retstep=True)\n",
      "(array([2.  ,  2.25,  2.5 ,  2.75,  3.  ]), 0.25)\n",
      "\n",
      "Graphical illustration:\n",
      "\n",
      ">>> import matplotlib.pyplot as plt\n",
      ">>> N = 8\n",
      ">>> y = np.zeros(N)\n",
      ">>> x1 = np.linspace(0, 10, N, endpoint=True)\n",
      ">>> x2 = np.linspace(0, 10, N, endpoint=False)\n",
      ">>> plt.plot(x1, y, 'o')\n",
      "[<matplotlib.lines.Line2D object at 0x...>]\n",
      ">>> plt.plot(x2, y + 0.5, 'o')\n",
      "[<matplotlib.lines.Line2D object at 0x...>]\n",
      ">>> plt.ylim([-0.5, 1])\n",
      "(-0.5, 1)\n",
      ">>> plt.show()\n"
     ]
    }
   ],
   "source": [
    "np.info(np.linspace)"
   ]
  },
  {
   "cell_type": "code",
   "execution_count": 68,
   "id": "d499b75f",
   "metadata": {},
   "outputs": [
    {
     "data": {
      "text/plain": [
       "array([[ 5,  6,  8, 10, 12, 14],\n",
       "       [16, 18, 20, 22, 24, 26],\n",
       "       [28, 30, 32, 34, 36, 38],\n",
       "       [40, 42, 44, 46, 48, 50]])"
      ]
     },
     "execution_count": 68,
     "metadata": {},
     "output_type": "execute_result"
    }
   ],
   "source": [
    "mask_array_a"
   ]
  },
  {
   "cell_type": "code",
   "execution_count": 69,
   "id": "a299febf",
   "metadata": {},
   "outputs": [],
   "source": [
    "mask = mask_array_a % 2 == 0"
   ]
  },
  {
   "cell_type": "code",
   "execution_count": 70,
   "id": "938c9f78",
   "metadata": {},
   "outputs": [
    {
     "data": {
      "text/plain": [
       "array([[False,  True,  True,  True,  True,  True],\n",
       "       [ True,  True,  True,  True,  True,  True],\n",
       "       [ True,  True,  True,  True,  True,  True],\n",
       "       [ True,  True,  True,  True,  True,  True]])"
      ]
     },
     "execution_count": 70,
     "metadata": {},
     "output_type": "execute_result"
    }
   ],
   "source": [
    "mask"
   ]
  },
  {
   "cell_type": "code",
   "execution_count": 71,
   "id": "834769f4",
   "metadata": {},
   "outputs": [
    {
     "data": {
      "text/plain": [
       "array([ 6,  8, 10, 12, 14, 16, 18, 20, 22, 24, 26, 28, 30, 32, 34, 36, 38,\n",
       "       40, 42, 44, 46, 48, 50])"
      ]
     },
     "execution_count": 71,
     "metadata": {},
     "output_type": "execute_result"
    }
   ],
   "source": [
    "masked_array = mask_array_a[mask]\n",
    "masked_array"
   ]
  },
  {
   "cell_type": "markdown",
   "id": "6723504c",
   "metadata": {},
   "source": [
    "### Array Mathematics"
   ]
  },
  {
   "cell_type": "markdown",
   "id": "8e152303",
   "metadata": {},
   "source": [
    "#### Arithmetic Operations"
   ]
  },
  {
   "cell_type": "code",
   "execution_count": 72,
   "id": "33d15819",
   "metadata": {},
   "outputs": [
    {
     "name": "stdout",
     "output_type": "stream",
     "text": [
      "out1: [0 0 0] and out2: [0 0 0]\n"
     ]
    }
   ],
   "source": [
    "x = np.array([1, 2, 3])\n",
    "y = np.array([-1, -2, -3])\n",
    "\n",
    "output_1 = np.add(x, y) #element wise addition of array x and y\n",
    "output_2 = x + y\n",
    "assert np.array_equal(output_1, output_2)\n",
    "print(f'out1: {output_1} and out2: {output_2}')"
   ]
  },
  {
   "cell_type": "code",
   "execution_count": 73,
   "id": "dbeff43d",
   "metadata": {},
   "outputs": [
    {
     "name": "stdout",
     "output_type": "stream",
     "text": [
      "out1: [2 3 4 5 6] and out2: [2 3 4 5 6]\n"
     ]
    }
   ],
   "source": [
    "x = np.array([1, 2, 3, 4, 5])\n",
    "y = np.array([1])\n",
    "\n",
    "output_1 = np.add(x, y) #adding y to each element of x\n",
    "output_2 = x + y \n",
    "print(f'out1: {output_1} and out2: {output_2}')"
   ]
  },
  {
   "cell_type": "markdown",
   "id": "e1e00909",
   "metadata": {},
   "source": [
    "*Note: Subtraction, Multiplication and Division can be carried out in the same fashion using `np.subtract`, `np.multiply` and `np.divide`.  \n",
    "For Floor division `np.floor_division` can be used.*"
   ]
  },
  {
   "cell_type": "code",
   "execution_count": 74,
   "id": "a7f55803",
   "metadata": {},
   "outputs": [
    {
     "name": "stdout",
     "output_type": "stream",
     "text": [
      "out1: [1.  0.5 5. ] and out2: [1.  0.5 5. ]\n"
     ]
    }
   ],
   "source": [
    "x = np.array([1, 2, .2])\n",
    "\n",
    "output_1 = np.reciprocal(x)\n",
    "output_2 = 1/x\n",
    "assert np.array_equal(output_1, output_2)\n",
    "print(f'out1: {output_1} and out2: {output_2}')"
   ]
  },
  {
   "cell_type": "markdown",
   "id": "816d203d",
   "metadata": {},
   "source": [
    "#### Trigonometric Operations"
   ]
  },
  {
   "cell_type": "markdown",
   "id": "4ede6ae6",
   "metadata": {},
   "source": [
    "Calculation of sine, cosine and tangent, element-wise."
   ]
  },
  {
   "cell_type": "code",
   "execution_count": 75,
   "id": "ac78ef32",
   "metadata": {},
   "outputs": [
    {
     "name": "stdout",
     "output_type": "stream",
     "text": [
      "sine: [ 0.          0.84147098 -0.98803162  0.89399666  0.58061118 -0.71487643\n",
      " -0.80115264]\n",
      "cosine: [ 1.          0.54030231  0.15425145 -0.44807362  0.81418097  0.69925081\n",
      " -0.59846007]\n",
      "tangent: [ 0.          1.55740772 -6.4053312  -1.99520041  0.71312301 -1.02234624\n",
      "  1.33869021]\n"
     ]
    }
   ],
   "source": [
    "x = np.array([0., 1., 30, 90, 120, 150, 180])\n",
    "print(\"sine:\", np.sin(x))\n",
    "print(\"cosine:\", np.cos(x))\n",
    "print(\"tangent:\", np.tan(x))"
   ]
  },
  {
   "cell_type": "markdown",
   "id": "84dbe41e",
   "metadata": {},
   "source": [
    "Calculation of inverse sine, inverse cosine, and inverse tangent, element-wise."
   ]
  },
  {
   "cell_type": "code",
   "execution_count": 76,
   "id": "d760c76a",
   "metadata": {},
   "outputs": [
    {
     "name": "stdout",
     "output_type": "stream",
     "text": [
      "sine: [-1.57079633  0.          1.57079633]\n",
      "cosine: [3.14159265 1.57079633 0.        ]\n",
      "tangent: [-0.78539816  0.          0.78539816]\n"
     ]
    }
   ],
   "source": [
    "x = np.array([-1, 0, 1])\n",
    "print(\"sine:\", np.arcsin(x))\n",
    "print(\"cosine:\", np.arccos(x))\n",
    "print(\"tangent:\", np.arctan(x))"
   ]
  },
  {
   "cell_type": "markdown",
   "id": "92bf4318",
   "metadata": {},
   "source": [
    "Convert angles from radians to degrees."
   ]
  },
  {
   "cell_type": "code",
   "execution_count": 77,
   "id": "4e04fdad",
   "metadata": {},
   "outputs": [
    {
     "name": "stdout",
     "output_type": "stream",
     "text": [
      "out1: [-180.  -90.   90.  180.] and out2: [-180.  -90.   90.  180.]\n"
     ]
    }
   ],
   "source": [
    "x = np.array([-np.pi, -np.pi/2, np.pi/2, np.pi])\n",
    "\n",
    "output_1 = np.degrees(x)\n",
    "output_2 = np.rad2deg(x)\n",
    "assert np.array_equiv(output_1, output_2)\n",
    "print(f'out1: {output_1} and out2: {output_2}')"
   ]
  },
  {
   "cell_type": "markdown",
   "id": "a47592d6",
   "metadata": {},
   "source": [
    "Convert angles from degrees to radians."
   ]
  },
  {
   "cell_type": "code",
   "execution_count": 78,
   "id": "a3316d4d",
   "metadata": {},
   "outputs": [
    {
     "name": "stdout",
     "output_type": "stream",
     "text": [
      "out1: [-3.14159265 -1.57079633  1.57079633  3.14159265] and out2: [-3.14159265 -1.57079633  1.57079633  3.14159265]\n"
     ]
    }
   ],
   "source": [
    "x = np.array([-180.,  -90.,   90.,  180.])\n",
    "\n",
    "output_1 = np.radians(x)\n",
    "output_2 = np.deg2rad(x)\n",
    "assert np.array_equiv(output_1, output_2)\n",
    "print(f'out1: {output_1} and out2: {output_2}')"
   ]
  },
  {
   "cell_type": "markdown",
   "id": "75a66b32",
   "metadata": {},
   "source": [
    "#### Statistics and Linear Algebra"
   ]
  },
  {
   "cell_type": "code",
   "execution_count": 79,
   "id": "b6e0c5c2",
   "metadata": {},
   "outputs": [
    {
     "data": {
      "text/plain": [
       "array([[1, 2, 3, 4],\n",
       "       [5, 6, 7, 8]])"
      ]
     },
     "execution_count": 79,
     "metadata": {},
     "output_type": "execute_result"
    }
   ],
   "source": [
    "x = np.array([[1, 2, 3, 4],[5, 6, 7, 8]])\n",
    "x"
   ]
  },
  {
   "cell_type": "code",
   "execution_count": 80,
   "id": "25be4bae",
   "metadata": {},
   "outputs": [
    {
     "data": {
      "text/plain": [
       "array([[1, 5],\n",
       "       [2, 6],\n",
       "       [3, 7],\n",
       "       [4, 8]])"
      ]
     },
     "execution_count": 80,
     "metadata": {},
     "output_type": "execute_result"
    }
   ],
   "source": [
    "x.T"
   ]
  },
  {
   "cell_type": "code",
   "execution_count": 81,
   "id": "63f2fb88",
   "metadata": {},
   "outputs": [
    {
     "data": {
      "text/plain": [
       "36"
      ]
     },
     "execution_count": 81,
     "metadata": {},
     "output_type": "execute_result"
    }
   ],
   "source": [
    "sum_a = x.sum()\n",
    "sum_a"
   ]
  },
  {
   "cell_type": "code",
   "execution_count": 82,
   "id": "3a87402e",
   "metadata": {},
   "outputs": [
    {
     "data": {
      "text/plain": [
       "array([ 6,  8, 10, 12])"
      ]
     },
     "execution_count": 82,
     "metadata": {},
     "output_type": "execute_result"
    }
   ],
   "source": [
    "sum_across_col = x.sum(axis=0)\n",
    "sum_across_col"
   ]
  },
  {
   "cell_type": "code",
   "execution_count": 83,
   "id": "f0ffbb54",
   "metadata": {},
   "outputs": [
    {
     "data": {
      "text/plain": [
       "array([10, 26])"
      ]
     },
     "execution_count": 83,
     "metadata": {},
     "output_type": "execute_result"
    }
   ],
   "source": [
    "sum_across_row = x.sum(axis=1)\n",
    "sum_across_row"
   ]
  },
  {
   "cell_type": "code",
   "execution_count": 84,
   "id": "5662266c",
   "metadata": {},
   "outputs": [
    {
     "data": {
      "text/plain": [
       "4.5"
      ]
     },
     "execution_count": 84,
     "metadata": {},
     "output_type": "execute_result"
    }
   ],
   "source": [
    "mean_a = x.mean()\n",
    "mean_a"
   ]
  },
  {
   "cell_type": "code",
   "execution_count": 85,
   "id": "f2079bbd",
   "metadata": {},
   "outputs": [
    {
     "data": {
      "text/plain": [
       "array([3., 4., 5., 6.])"
      ]
     },
     "execution_count": 85,
     "metadata": {},
     "output_type": "execute_result"
    }
   ],
   "source": [
    "mean_across_col = x.mean(axis=0)\n",
    "mean_across_col"
   ]
  },
  {
   "cell_type": "code",
   "execution_count": 86,
   "id": "b7b2edcd",
   "metadata": {},
   "outputs": [
    {
     "data": {
      "text/plain": [
       "array([2.5, 6.5])"
      ]
     },
     "execution_count": 86,
     "metadata": {},
     "output_type": "execute_result"
    }
   ],
   "source": [
    "mean_across_row = x.mean(axis=1)\n",
    "mean_across_row"
   ]
  },
  {
   "cell_type": "code",
   "execution_count": 87,
   "id": "08ff840d",
   "metadata": {},
   "outputs": [],
   "source": [
    "array_a = np.array([[1, 2, 3, 4, 5],[1, 3, 4, 6, 7]])\n",
    "array_b = np.array([[2, 4, 6, 8, 10], [1, 3, 5, 7, 9]])"
   ]
  },
  {
   "cell_type": "code",
   "execution_count": 88,
   "id": "e0424b81",
   "metadata": {},
   "outputs": [
    {
     "data": {
      "text/plain": [
       "array([[1, 2, 3, 4, 5],\n",
       "       [1, 3, 4, 6, 7]])"
      ]
     },
     "execution_count": 88,
     "metadata": {},
     "output_type": "execute_result"
    }
   ],
   "source": [
    "array_a"
   ]
  },
  {
   "cell_type": "code",
   "execution_count": 89,
   "id": "92a7f152",
   "metadata": {},
   "outputs": [
    {
     "data": {
      "text/plain": [
       "array([[ 3,  6,  9, 12, 15],\n",
       "       [ 3,  9, 12, 18, 21]])"
      ]
     },
     "execution_count": 89,
     "metadata": {},
     "output_type": "execute_result"
    }
   ],
   "source": [
    "array_a * 3"
   ]
  },
  {
   "cell_type": "code",
   "execution_count": 90,
   "id": "b4333550",
   "metadata": {},
   "outputs": [
    {
     "data": {
      "text/plain": [
       "array([[110,  95],\n",
       "       [156, 135]])"
      ]
     },
     "execution_count": 90,
     "metadata": {},
     "output_type": "execute_result"
    }
   ],
   "source": [
    "array_a.dot(array_b.T)"
   ]
  },
  {
   "cell_type": "markdown",
   "id": "8b541e5d",
   "metadata": {},
   "source": [
    "### Comparing the speed of Numpy vs Python loops and lists"
   ]
  },
  {
   "cell_type": "code",
   "execution_count": 9,
   "id": "68fdcc17",
   "metadata": {},
   "outputs": [],
   "source": [
    "from datetime import datetime\n",
    "import numpy as np"
   ]
  },
  {
   "cell_type": "code",
   "execution_count": 10,
   "id": "51bf6c94",
   "metadata": {},
   "outputs": [],
   "source": [
    "def calculate_sum_from_numpy(n):\n",
    "    a = np.arange(n) ** 2\n",
    "    b = np.arange(n) ** 3\n",
    "    c = a + b\n",
    "    return c"
   ]
  },
  {
   "cell_type": "code",
   "execution_count": 12,
   "id": "cafe8f10",
   "metadata": {},
   "outputs": [],
   "source": [
    "def calculate_sum_from_list_loops(n):\n",
    "    a = list(range(n))\n",
    "    b = list(range(n))\n",
    "    c = []\n",
    "    for i in range(len(a)):\n",
    "        a[i] = i ** 2\n",
    "        b[i] = i ** 3\n",
    "        c.append(a[i] + b[i])\n",
    "    return c"
   ]
  },
  {
   "cell_type": "code",
   "execution_count": 13,
   "id": "90273d2d",
   "metadata": {},
   "outputs": [
    {
     "name": "stdout",
     "output_type": "stream",
     "text": [
      "The last 2 elements of the sum [999950000799996, 999980000100000]\n",
      "Python Loop and List elapsed time in microseconds 0:00:00.031631\n"
     ]
    }
   ],
   "source": [
    "start = datetime.now()\n",
    "c = calculate_sum_from_list_loops(100000)\n",
    "delta = datetime.now() - start\n",
    "print(\"The last 2 elements of the sum\", c[-2:])\n",
    "print(\"Python Loop and List elapsed time in microseconds\", delta)"
   ]
  },
  {
   "cell_type": "code",
   "execution_count": 14,
   "id": "abeec004",
   "metadata": {},
   "outputs": [
    {
     "name": "stdout",
     "output_type": "stream",
     "text": [
      "The last 2 elements of the sum [999950000799996 999980000100000]\n",
      "Numpy  elapsed time in microseconds 0:00:00.004323\n"
     ]
    }
   ],
   "source": [
    "start_numpy = datetime.now()\n",
    "c = calculate_sum_from_numpy(100000)\n",
    "delta_numpy = datetime.now() - start_numpy\n",
    "print(\"The last 2 elements of the sum\", c[-2:])\n",
    "print(\"Numpy  elapsed time in microseconds\", delta_numpy)"
   ]
  },
  {
   "cell_type": "code",
   "execution_count": 2,
   "id": "54ac385c-1486-47e7-8718-0b4ffa75058c",
   "metadata": {},
   "outputs": [],
   "source": [
    "import numpy as np"
   ]
  },
  {
   "cell_type": "code",
   "execution_count": 3,
   "id": "64f0fd14",
   "metadata": {},
   "outputs": [],
   "source": [
    "a = np.array([1,2,3,4,5])"
   ]
  },
  {
   "cell_type": "code",
   "execution_count": 7,
   "id": "e72e9b14-fc73-4eb1-98f5-a3c62cf5d0ac",
   "metadata": {},
   "outputs": [],
   "source": [
    "b = a.astype('float')"
   ]
  },
  {
   "cell_type": "code",
   "execution_count": 8,
   "id": "b9091215-6630-430f-b9fc-bde2e6d050ba",
   "metadata": {},
   "outputs": [
    {
     "data": {
      "text/plain": [
       "array([1., 2., 3., 4., 5.])"
      ]
     },
     "execution_count": 8,
     "metadata": {},
     "output_type": "execute_result"
    }
   ],
   "source": [
    "b"
   ]
  },
  {
   "cell_type": "code",
   "execution_count": 5,
   "id": "6e1df381-2011-41ac-8326-5401f435ac36",
   "metadata": {},
   "outputs": [
    {
     "data": {
      "text/plain": [
       "['T',\n",
       " '__abs__',\n",
       " '__add__',\n",
       " '__and__',\n",
       " '__array__',\n",
       " '__array_finalize__',\n",
       " '__array_function__',\n",
       " '__array_interface__',\n",
       " '__array_prepare__',\n",
       " '__array_priority__',\n",
       " '__array_struct__',\n",
       " '__array_ufunc__',\n",
       " '__array_wrap__',\n",
       " '__bool__',\n",
       " '__class__',\n",
       " '__class_getitem__',\n",
       " '__complex__',\n",
       " '__contains__',\n",
       " '__copy__',\n",
       " '__deepcopy__',\n",
       " '__delattr__',\n",
       " '__delitem__',\n",
       " '__dir__',\n",
       " '__divmod__',\n",
       " '__dlpack__',\n",
       " '__dlpack_device__',\n",
       " '__doc__',\n",
       " '__eq__',\n",
       " '__float__',\n",
       " '__floordiv__',\n",
       " '__format__',\n",
       " '__ge__',\n",
       " '__getattribute__',\n",
       " '__getitem__',\n",
       " '__getstate__',\n",
       " '__gt__',\n",
       " '__hash__',\n",
       " '__iadd__',\n",
       " '__iand__',\n",
       " '__ifloordiv__',\n",
       " '__ilshift__',\n",
       " '__imatmul__',\n",
       " '__imod__',\n",
       " '__imul__',\n",
       " '__index__',\n",
       " '__init__',\n",
       " '__init_subclass__',\n",
       " '__int__',\n",
       " '__invert__',\n",
       " '__ior__',\n",
       " '__ipow__',\n",
       " '__irshift__',\n",
       " '__isub__',\n",
       " '__iter__',\n",
       " '__itruediv__',\n",
       " '__ixor__',\n",
       " '__le__',\n",
       " '__len__',\n",
       " '__lshift__',\n",
       " '__lt__',\n",
       " '__matmul__',\n",
       " '__mod__',\n",
       " '__mul__',\n",
       " '__ne__',\n",
       " '__neg__',\n",
       " '__new__',\n",
       " '__or__',\n",
       " '__pos__',\n",
       " '__pow__',\n",
       " '__radd__',\n",
       " '__rand__',\n",
       " '__rdivmod__',\n",
       " '__reduce__',\n",
       " '__reduce_ex__',\n",
       " '__repr__',\n",
       " '__rfloordiv__',\n",
       " '__rlshift__',\n",
       " '__rmatmul__',\n",
       " '__rmod__',\n",
       " '__rmul__',\n",
       " '__ror__',\n",
       " '__rpow__',\n",
       " '__rrshift__',\n",
       " '__rshift__',\n",
       " '__rsub__',\n",
       " '__rtruediv__',\n",
       " '__rxor__',\n",
       " '__setattr__',\n",
       " '__setitem__',\n",
       " '__setstate__',\n",
       " '__sizeof__',\n",
       " '__str__',\n",
       " '__sub__',\n",
       " '__subclasshook__',\n",
       " '__truediv__',\n",
       " '__xor__',\n",
       " 'all',\n",
       " 'any',\n",
       " 'argmax',\n",
       " 'argmin',\n",
       " 'argpartition',\n",
       " 'argsort',\n",
       " 'astype',\n",
       " 'base',\n",
       " 'byteswap',\n",
       " 'choose',\n",
       " 'clip',\n",
       " 'compress',\n",
       " 'conj',\n",
       " 'conjugate',\n",
       " 'copy',\n",
       " 'ctypes',\n",
       " 'cumprod',\n",
       " 'cumsum',\n",
       " 'data',\n",
       " 'diagonal',\n",
       " 'dot',\n",
       " 'dtype',\n",
       " 'dump',\n",
       " 'dumps',\n",
       " 'fill',\n",
       " 'flags',\n",
       " 'flat',\n",
       " 'flatten',\n",
       " 'getfield',\n",
       " 'imag',\n",
       " 'item',\n",
       " 'itemset',\n",
       " 'itemsize',\n",
       " 'max',\n",
       " 'mean',\n",
       " 'min',\n",
       " 'nbytes',\n",
       " 'ndim',\n",
       " 'newbyteorder',\n",
       " 'nonzero',\n",
       " 'partition',\n",
       " 'prod',\n",
       " 'ptp',\n",
       " 'put',\n",
       " 'ravel',\n",
       " 'real',\n",
       " 'repeat',\n",
       " 'reshape',\n",
       " 'resize',\n",
       " 'round',\n",
       " 'searchsorted',\n",
       " 'setfield',\n",
       " 'setflags',\n",
       " 'shape',\n",
       " 'size',\n",
       " 'sort',\n",
       " 'squeeze',\n",
       " 'std',\n",
       " 'strides',\n",
       " 'sum',\n",
       " 'swapaxes',\n",
       " 'take',\n",
       " 'tobytes',\n",
       " 'tofile',\n",
       " 'tolist',\n",
       " 'tostring',\n",
       " 'trace',\n",
       " 'transpose',\n",
       " 'var',\n",
       " 'view']"
      ]
     },
     "execution_count": 5,
     "metadata": {},
     "output_type": "execute_result"
    }
   ],
   "source": [
    "dir(a)"
   ]
  },
  {
   "cell_type": "code",
   "execution_count": null,
   "id": "566a5745-cc0e-440c-ab05-552547017e5d",
   "metadata": {},
   "outputs": [],
   "source": []
  }
 ],
 "metadata": {
  "kernelspec": {
   "display_name": "Python 3 (ipykernel)",
   "language": "python",
   "name": "python3"
  },
  "language_info": {
   "codemirror_mode": {
    "name": "ipython",
    "version": 3
   },
   "file_extension": ".py",
   "mimetype": "text/x-python",
   "name": "python",
   "nbconvert_exporter": "python",
   "pygments_lexer": "ipython3",
   "version": "3.11.7"
  }
 },
 "nbformat": 4,
 "nbformat_minor": 5
}
