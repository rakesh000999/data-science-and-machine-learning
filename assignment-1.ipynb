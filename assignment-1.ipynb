{
 "cells": [
  {
   "cell_type": "code",
   "execution_count": 178,
   "id": "fea7df92-a620-4f4c-b2b6-7012110e74d0",
   "metadata": {},
   "outputs": [],
   "source": [
    "# Create a list of your favorite movies and print it. Then, append a new movie to the list and print the updated list."
   ]
  },
  {
   "cell_type": "code",
   "execution_count": 30,
   "id": "788f9637-5e2c-416e-a325-3271c85d8e17",
   "metadata": {},
   "outputs": [],
   "source": [
    "movies_list = ['Animal', 'King', 'Hostel', 'Rain']"
   ]
  },
  {
   "cell_type": "code",
   "execution_count": 32,
   "id": "cbab5f69-5c20-4b54-acac-8610a72623b6",
   "metadata": {},
   "outputs": [
    {
     "data": {
      "text/plain": [
       "['Animal', 'King', 'Hostel', 'Rain']"
      ]
     },
     "execution_count": 32,
     "metadata": {},
     "output_type": "execute_result"
    }
   ],
   "source": [
    "movies_list"
   ]
  },
  {
   "cell_type": "code",
   "execution_count": 34,
   "id": "f6bce30d-4950-4456-979d-aa8739aee7b2",
   "metadata": {},
   "outputs": [
    {
     "data": {
      "text/plain": [
       "['Animal', 'King', 'Hostel', 'Rain', 'Life']"
      ]
     },
     "execution_count": 34,
     "metadata": {},
     "output_type": "execute_result"
    }
   ],
   "source": [
    "movies_list.append('Life') \n",
    "movies_list"
   ]
  },
  {
   "cell_type": "code",
   "execution_count": null,
   "id": "d4902505-4482-44e8-8d55-25df33f60c10",
   "metadata": {},
   "outputs": [],
   "source": [
    "# Create a list of integers from 1 to 10 and print it. Calculate the sum of all the numbers in the list and print the result."
   ]
  },
  {
   "cell_type": "code",
   "execution_count": 38,
   "id": "295c6bb6-dc78-4912-be4c-83854f5151e3",
   "metadata": {},
   "outputs": [
    {
     "data": {
      "text/plain": [
       "[1, 2, 3, 4, 5, 6, 7, 8, 9, 10]"
      ]
     },
     "execution_count": 38,
     "metadata": {},
     "output_type": "execute_result"
    }
   ],
   "source": [
    "integers_list = [1,2,3,4,5,6,7,8,9,10]\n",
    "integers_list"
   ]
  },
  {
   "cell_type": "code",
   "execution_count": 170,
   "id": "60ad56d4-2e17-43f1-a028-fdc888b8ec43",
   "metadata": {},
   "outputs": [
    {
     "data": {
      "text/plain": [
       "55"
      ]
     },
     "execution_count": 170,
     "metadata": {},
     "output_type": "execute_result"
    }
   ],
   "source": [
    "sum = 0\n",
    "for i in integers_list:\n",
    "    sum += i\n",
    "sum"
   ]
  },
  {
   "cell_type": "code",
   "execution_count": null,
   "id": "c63bec8e-c558-463f-b0ad-f6aee8f25422",
   "metadata": {},
   "outputs": [],
   "source": [
    "# Create a list of mixed data types including strings, integers, and floats and print it. Remove the first element from the list and print the modified list."
   ]
  },
  {
   "cell_type": "code",
   "execution_count": 136,
   "id": "fed71927-6252-48f4-99f9-c1369db7422a",
   "metadata": {},
   "outputs": [
    {
     "data": {
      "text/plain": [
       "['Rakesh', 43, 21.23]"
      ]
     },
     "execution_count": 136,
     "metadata": {},
     "output_type": "execute_result"
    }
   ],
   "source": [
    "datatype_list = ['Rakesh', 43, 21.23]\n",
    "datatype_list"
   ]
  },
  {
   "cell_type": "code",
   "execution_count": 138,
   "id": "0da99f25-7121-46c8-8a41-f99c3f545a5e",
   "metadata": {},
   "outputs": [
    {
     "data": {
      "text/plain": [
       "[43, 21.23]"
      ]
     },
     "execution_count": 138,
     "metadata": {},
     "output_type": "execute_result"
    }
   ],
   "source": [
    "datatype_list.pop(0)\n",
    "datatype_list"
   ]
  },
  {
   "cell_type": "code",
   "execution_count": null,
   "id": "439793d5-a652-4cf5-a53c-a0abbf641fa4",
   "metadata": {},
   "outputs": [],
   "source": [
    "# Create a tuple containing the names of the days of the week and print it. Access and print the name of the third day."
   ]
  },
  {
   "cell_type": "code",
   "execution_count": 5,
   "id": "a64a9a75-a55a-4f54-bea8-48b59f99bcac",
   "metadata": {},
   "outputs": [
    {
     "data": {
      "text/plain": [
       "('Sunday', 'Monday', 'Tuesday', 'Wednesday', 'Thursday', 'Friday', 'Saturday')"
      ]
     },
     "execution_count": 5,
     "metadata": {},
     "output_type": "execute_result"
    }
   ],
   "source": [
    "week_tuple = (\"Sunday\", \"Monday\", \"Tuesday\", \"Wednesday\", \"Thursday\", \"Friday\", \"Saturday\")\n",
    "week_tuple"
   ]
  },
  {
   "cell_type": "code",
   "execution_count": 7,
   "id": "5bd9638d-0524-4844-b801-c42c531fcc9f",
   "metadata": {},
   "outputs": [
    {
     "data": {
      "text/plain": [
       "'Tuesday'"
      ]
     },
     "execution_count": 7,
     "metadata": {},
     "output_type": "execute_result"
    }
   ],
   "source": [
    "third_day = week_tuple[2]\n",
    "third_day"
   ]
  },
  {
   "cell_type": "code",
   "execution_count": null,
   "id": "35a7fc80-d850-45b7-81de-08784ae3a742",
   "metadata": {},
   "outputs": [],
   "source": [
    "# Create a tuple of your favorite colors and print it. Check if a certain color is present in the tuple and print the result."
   ]
  },
  {
   "cell_type": "code",
   "execution_count": 23,
   "id": "485e0127-835a-4fe4-88de-a4f6d3f7dee2",
   "metadata": {},
   "outputs": [
    {
     "data": {
      "text/plain": [
       "('Green', 'Blue', 'Black', 'Pink', 'Red', 'Yellow')"
      ]
     },
     "execution_count": 23,
     "metadata": {},
     "output_type": "execute_result"
    }
   ],
   "source": [
    "color_tuple = (\"Green\", \"Blue\", \"Black\", \"Pink\", \"Red\", \"Yellow\")\n",
    "color_tuple"
   ]
  },
  {
   "cell_type": "code",
   "execution_count": 49,
   "id": "7fd3a126-7163-4b87-b11c-fc05ddd204f4",
   "metadata": {},
   "outputs": [
    {
     "name": "stdout",
     "output_type": "stream",
     "text": [
      "Color is present!\n"
     ]
    }
   ],
   "source": [
    "if \"Blue\" in color_tuple:\n",
    "    print(\"Color is present!\")\n",
    "else:\n",
    "     print(\"Color is not present!\") \n",
    "# color_tuple"
   ]
  },
  {
   "cell_type": "code",
   "execution_count": null,
   "id": "5f9f31e6-d553-4c4b-a269-9e551592a692",
   "metadata": {},
   "outputs": [],
   "source": [
    "# Create a dictionary representing the information of a book with keys \"title\", \"author\", and\n",
    "# \"year\" and print it. Update the year of the book and print the updated dictionary."
   ]
  },
  {
   "cell_type": "code",
   "execution_count": 53,
   "id": "f1ba9284-85fa-47f4-b249-184fbeaab5e3",
   "metadata": {},
   "outputs": [
    {
     "data": {
      "text/plain": [
       "{'title': 'Rich Dad Poor Dad', 'author': 'Robert Kiyosaki', 'year': 1900}"
      ]
     },
     "execution_count": 53,
     "metadata": {},
     "output_type": "execute_result"
    }
   ],
   "source": [
    "book_dictionary = {\n",
    "    \"title\" : \"Rich Dad Poor Dad\",\n",
    "    \"author\" : \"Robert Kiyosaki\",\n",
    "    \"year\" : 1900\n",
    "}\n",
    "book_dictionary"
   ]
  },
  {
   "cell_type": "code",
   "execution_count": 59,
   "id": "89b6df21-3534-4869-8628-9da1b24606e9",
   "metadata": {},
   "outputs": [
    {
     "data": {
      "text/plain": [
       "{'title': 'Rich Dad Poor Dad', 'author': 'Robert Kiyosaki', 'year': 2000}"
      ]
     },
     "execution_count": 59,
     "metadata": {},
     "output_type": "execute_result"
    }
   ],
   "source": [
    "book_dictionary.update({\"year\" : 2000})\n",
    "book_dictionary"
   ]
  },
  {
   "cell_type": "code",
   "execution_count": null,
   "id": "4c779b53-d9fb-449e-950d-0c27bc54eef5",
   "metadata": {},
   "outputs": [],
   "source": [
    "# Create a dictionary containing the names of fruits as keys and their corresponding colors\n",
    "# as values and print it. Add a new fruit-color pair to the dictionary and print the updated\n",
    "# dictionary."
   ]
  },
  {
   "cell_type": "code",
   "execution_count": 61,
   "id": "fb71cf33-6597-4b92-b3fc-68b619a3b497",
   "metadata": {},
   "outputs": [
    {
     "data": {
      "text/plain": [
       "{'apple': 'red', 'orange': 'orange', 'strawberry': 'red', 'banana': 'yellow'}"
      ]
     },
     "execution_count": 61,
     "metadata": {},
     "output_type": "execute_result"
    }
   ],
   "source": [
    "fruits_dictionary = {\n",
    "    \"apple\" : \"red\",\n",
    "    \"orange\" : \"orange\",\n",
    "    \"strawberry\" : \"red\",\n",
    "    \"banana\" : \"yellow\"\n",
    " }\n",
    "fruits_dictionary"
   ]
  },
  {
   "cell_type": "code",
   "execution_count": 63,
   "id": "92b83bd9-fb34-4776-8e71-192dcc5384b1",
   "metadata": {},
   "outputs": [
    {
     "data": {
      "text/plain": [
       "{'apple': 'red',\n",
       " 'orange': 'orange',\n",
       " 'strawberry': 'red',\n",
       " 'banana': 'yellow',\n",
       " 'mango': 'yellow'}"
      ]
     },
     "execution_count": 63,
     "metadata": {},
     "output_type": "execute_result"
    }
   ],
   "source": [
    "fruits_dictionary.update({\"mango\": \"yellow\"})\n",
    "fruits_dictionary"
   ]
  },
  {
   "cell_type": "code",
   "execution_count": null,
   "id": "2992d4ec-f2c4-4be9-a045-1261988aae16",
   "metadata": {},
   "outputs": [],
   "source": [
    "# Create a dictionary representing the population of different cities with keys as city names\n",
    "# and values as population numbers and print it. Remove a city from the dictionary and print\n",
    "# the modified dictionary."
   ]
  },
  {
   "cell_type": "code",
   "execution_count": 65,
   "id": "33bd2600-78a1-4a48-aaa9-be744441c4b1",
   "metadata": {},
   "outputs": [
    {
     "data": {
      "text/plain": [
       "{'nepal': 2323323,\n",
       " 'china': 52353523,\n",
       " 'india': 352352323,\n",
       " 'japan': 23425223,\n",
       " 'canada': 234234}"
      ]
     },
     "execution_count": 65,
     "metadata": {},
     "output_type": "execute_result"
    }
   ],
   "source": [
    "population_dictionary = {\n",
    "    \"nepal\" : 2323323,\n",
    "    \"china\" : 52353523,\n",
    "    \"india\" : 352352323,\n",
    "    \"japan\" : 23425223,\n",
    "    \"canada\" : 234234\n",
    "}\n",
    "population_dictionary"
   ]
  },
  {
   "cell_type": "code",
   "execution_count": 67,
   "id": "fb8b418f-6a46-48ff-9445-f8fca32c75c3",
   "metadata": {},
   "outputs": [
    {
     "data": {
      "text/plain": [
       "{'nepal': 2323323, 'india': 352352323, 'japan': 23425223, 'canada': 234234}"
      ]
     },
     "execution_count": 67,
     "metadata": {},
     "output_type": "execute_result"
    }
   ],
   "source": [
    "population_dictionary.pop(\"china\")\n",
    "population_dictionary"
   ]
  }
 ],
 "metadata": {
  "kernelspec": {
   "display_name": "Python 3 (ipykernel)",
   "language": "python",
   "name": "python3"
  },
  "language_info": {
   "codemirror_mode": {
    "name": "ipython",
    "version": 3
   },
   "file_extension": ".py",
   "mimetype": "text/x-python",
   "name": "python",
   "nbconvert_exporter": "python",
   "pygments_lexer": "ipython3",
   "version": "3.12.7"
  }
 },
 "nbformat": 4,
 "nbformat_minor": 5
}
