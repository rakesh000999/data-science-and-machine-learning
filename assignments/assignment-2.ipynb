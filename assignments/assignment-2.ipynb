{
 "cells": [
  {
   "cell_type": "code",
   "execution_count": 93,
   "id": "97c11fee-b9dc-4508-8de7-508a308e5f0a",
   "metadata": {},
   "outputs": [],
   "source": [
    "import numpy as np"
   ]
  },
  {
   "cell_type": "code",
   "execution_count": 95,
   "id": "de3bd565-2efc-40be-9f6b-0adcc43cdad9",
   "metadata": {},
   "outputs": [],
   "source": [
    "# Array Creation:\n",
    "# Create a 1-dimensional array of integers from 1 to 10."
   ]
  },
  {
   "cell_type": "code",
   "execution_count": 97,
   "id": "87c85834-d900-465e-b472-64d9769ed926",
   "metadata": {},
   "outputs": [
    {
     "data": {
      "text/plain": [
       "array([ 1,  2,  3,  4,  5,  6,  7,  8,  9, 10])"
      ]
     },
     "execution_count": 97,
     "metadata": {},
     "output_type": "execute_result"
    }
   ],
   "source": [
    "array_1d = np.arange(1, 11)\n",
    "array_1d"
   ]
  },
  {
   "cell_type": "code",
   "execution_count": 99,
   "id": "48ed8da7-0626-4a51-8d75-8271252ecc18",
   "metadata": {},
   "outputs": [],
   "source": [
    "# Create a 2-dimensional array with random float values of shape (3, 4)."
   ]
  },
  {
   "cell_type": "code",
   "execution_count": 101,
   "id": "7965ebdd-63a8-4db6-a2d3-1ee1f61615b5",
   "metadata": {},
   "outputs": [
    {
     "data": {
      "text/plain": [
       "array([[0.44341572, 0.82367879, 0.08167624, 0.09690339],\n",
       "       [0.25669548, 0.04080471, 0.50496103, 0.72874513],\n",
       "       [0.3983859 , 0.48019673, 0.21250343, 0.10139556]])"
      ]
     },
     "execution_count": 101,
     "metadata": {},
     "output_type": "execute_result"
    }
   ],
   "source": [
    "array_2d = np.random.random((3, 4))\n",
    "array_2d"
   ]
  },
  {
   "cell_type": "code",
   "execution_count": 103,
   "id": "a4c81900-1be3-4caf-8662-6c707bb036aa",
   "metadata": {},
   "outputs": [],
   "source": [
    "# Create a 3-dimensional array of zeros with shape (2, 3, 4)."
   ]
  },
  {
   "cell_type": "code",
   "execution_count": 183,
   "id": "20c90dae-ca81-4783-adf8-12ba8950e876",
   "metadata": {},
   "outputs": [
    {
     "data": {
      "text/plain": [
       "array([[[0., 0., 0., 0.],\n",
       "        [0., 0., 0., 0.],\n",
       "        [0., 0., 0., 0.]],\n",
       "\n",
       "       [[0., 0., 0., 0.],\n",
       "        [0., 0., 0., 0.],\n",
       "        [0., 0., 0., 0.]]])"
      ]
     },
     "execution_count": 183,
     "metadata": {},
     "output_type": "execute_result"
    }
   ],
   "source": [
    "array_3d = np.zeros((2, 3, 4))\n",
    "array_3d"
   ]
  },
  {
   "cell_type": "code",
   "execution_count": 109,
   "id": "7d338b7b-a7d1-40fd-ba7a-5239e3466fec",
   "metadata": {},
   "outputs": [],
   "source": [
    "# Array Operations:\n",
    "\n",
    "# Given two 1-dimensional arrays, perform element-wise addition,\n",
    "# subtraction, multiplication, and division."
   ]
  },
  {
   "cell_type": "code",
   "execution_count": 111,
   "id": "8ce78391-42b2-4c97-af37-872671e24820",
   "metadata": {},
   "outputs": [],
   "source": [
    "arr1 = np.array([1, 2, 3, 4, 5])\n",
    "arr2 = np.array([5, 4, 3, 2, 1])\n"
   ]
  },
  {
   "cell_type": "code",
   "execution_count": 113,
   "id": "30167f38-80a7-4605-931f-19b30fc3f9c1",
   "metadata": {},
   "outputs": [
    {
     "data": {
      "text/plain": [
       "array([6, 6, 6, 6, 6])"
      ]
     },
     "execution_count": 113,
     "metadata": {},
     "output_type": "execute_result"
    }
   ],
   "source": [
    "addition = arr1 + arr2\n",
    "addition"
   ]
  },
  {
   "cell_type": "code",
   "execution_count": 115,
   "id": "422956b7-c95e-4752-b493-40ace59bc23f",
   "metadata": {},
   "outputs": [
    {
     "data": {
      "text/plain": [
       "array([-4, -2,  0,  2,  4])"
      ]
     },
     "execution_count": 115,
     "metadata": {},
     "output_type": "execute_result"
    }
   ],
   "source": [
    "subtraction = arr1 - arr2\n",
    "subtraction"
   ]
  },
  {
   "cell_type": "code",
   "execution_count": 117,
   "id": "0314aedf-294c-4985-94d4-29574c381a2c",
   "metadata": {},
   "outputs": [
    {
     "data": {
      "text/plain": [
       "array([5, 8, 9, 8, 5])"
      ]
     },
     "execution_count": 117,
     "metadata": {},
     "output_type": "execute_result"
    }
   ],
   "source": [
    "multiplication = arr1 * arr2\n",
    "multiplication"
   ]
  },
  {
   "cell_type": "code",
   "execution_count": 119,
   "id": "37e6b33e-b633-4b84-bc0b-8e9ab6e17cb8",
   "metadata": {},
   "outputs": [
    {
     "data": {
      "text/plain": [
       "array([0.2, 0.5, 1. , 2. , 5. ])"
      ]
     },
     "execution_count": 119,
     "metadata": {},
     "output_type": "execute_result"
    }
   ],
   "source": [
    "division = arr1 / arr2\n",
    "division"
   ]
  },
  {
   "cell_type": "code",
   "execution_count": 121,
   "id": "6088ba1a-9c46-41b5-9543-995c9fef01b7",
   "metadata": {},
   "outputs": [],
   "source": [
    "# Calculate the mean, median, and standard deviation of a given 1-\n",
    "# dimensional array."
   ]
  },
  {
   "cell_type": "code",
   "execution_count": 123,
   "id": "5d7d61da-a223-42d6-bdca-3bd22fa133dc",
   "metadata": {},
   "outputs": [
    {
     "data": {
      "text/plain": [
       "3.0"
      ]
     },
     "execution_count": 123,
     "metadata": {},
     "output_type": "execute_result"
    }
   ],
   "source": [
    "mean = np.mean(arr1)\n",
    "mean"
   ]
  },
  {
   "cell_type": "code",
   "execution_count": 125,
   "id": "6df95699-8cb4-4339-8927-776e3b3ba18a",
   "metadata": {},
   "outputs": [
    {
     "data": {
      "text/plain": [
       "3.0"
      ]
     },
     "execution_count": 125,
     "metadata": {},
     "output_type": "execute_result"
    }
   ],
   "source": [
    "median = np.median(arr1)\n",
    "median"
   ]
  },
  {
   "cell_type": "code",
   "execution_count": 127,
   "id": "1e0828db-d6f6-4624-b778-8000af194009",
   "metadata": {},
   "outputs": [
    {
     "data": {
      "text/plain": [
       "1.4142135623730951"
      ]
     },
     "execution_count": 127,
     "metadata": {},
     "output_type": "execute_result"
    }
   ],
   "source": [
    "std_dev = np.std(arr1)\n",
    "std_dev"
   ]
  },
  {
   "cell_type": "code",
   "execution_count": 129,
   "id": "b15d6fa9-06df-48bf-9282-07bc9f80cedb",
   "metadata": {},
   "outputs": [],
   "source": [
    "# Reshape a 1-dimensional array into a 2-dimensional array of shape (3,\n",
    "# 4)."
   ]
  },
  {
   "cell_type": "code",
   "execution_count": 181,
   "id": "b173c858-e2ab-41a3-96f5-d438e132c3b0",
   "metadata": {},
   "outputs": [
    {
     "ename": "ValueError",
     "evalue": "cannot reshape array of size 10 into shape (3,4)",
     "output_type": "error",
     "traceback": [
      "\u001b[1;31m---------------------------------------------------------------------------\u001b[0m",
      "\u001b[1;31mValueError\u001b[0m                                Traceback (most recent call last)",
      "Cell \u001b[1;32mIn[181], line 1\u001b[0m\n\u001b[1;32m----> 1\u001b[0m array_reshape \u001b[38;5;241m=\u001b[39m array_1d\u001b[38;5;241m.\u001b[39mreshape((\u001b[38;5;241m3\u001b[39m, \u001b[38;5;241m4\u001b[39m))\n\u001b[0;32m      2\u001b[0m array_reshape\n",
      "\u001b[1;31mValueError\u001b[0m: cannot reshape array of size 10 into shape (3,4)"
     ]
    }
   ],
   "source": [
    "array_reshape = array_1d.reshape((3, 4))\n",
    "array_reshape"
   ]
  },
  {
   "cell_type": "code",
   "execution_count": null,
   "id": "4eb59bfd-4048-44de-b3f1-f397d2fb7ae1",
   "metadata": {},
   "outputs": [],
   "source": [
    "# Array Indexing and Slicing:\n",
    "\n",
    "# Extract the first row and last column of a 2-dimensional array."
   ]
  },
  {
   "cell_type": "code",
   "execution_count": 139,
   "id": "466c5da1-ef9c-49e8-8a01-523953d7efe6",
   "metadata": {},
   "outputs": [
    {
     "data": {
      "text/plain": [
       "array([0.44341572, 0.82367879, 0.08167624, 0.09690339])"
      ]
     },
     "execution_count": 139,
     "metadata": {},
     "output_type": "execute_result"
    }
   ],
   "source": [
    "first_row = array_2d[0, :]\n",
    "first_row"
   ]
  },
  {
   "cell_type": "code",
   "execution_count": 143,
   "id": "53354c49-ef81-4e8d-b3c8-e55f27d9b072",
   "metadata": {},
   "outputs": [
    {
     "data": {
      "text/plain": [
       "array([0.09690339, 0.72874513, 0.10139556])"
      ]
     },
     "execution_count": 143,
     "metadata": {},
     "output_type": "execute_result"
    }
   ],
   "source": [
    "last_column = array_2d[:, -1]\n",
    "last_column"
   ]
  },
  {
   "cell_type": "code",
   "execution_count": null,
   "id": "535d2624-269f-4358-963e-1a3dbbcc2d21",
   "metadata": {},
   "outputs": [],
   "source": [
    "# Reverse the order of elements in a 1-dimensional array."
   ]
  },
  {
   "cell_type": "code",
   "execution_count": 145,
   "id": "dd3cf32a-7c4b-41b3-b827-ea0ed579feb7",
   "metadata": {},
   "outputs": [
    {
     "data": {
      "text/plain": [
       "array([10,  9,  8,  7,  6,  5,  4,  3,  2,  1])"
      ]
     },
     "execution_count": 145,
     "metadata": {},
     "output_type": "execute_result"
    }
   ],
   "source": [
    "reversed_array = array_1d[::-1]\n",
    "reversed_array"
   ]
  },
  {
   "cell_type": "code",
   "execution_count": null,
   "id": "e2c18c49-ced1-4f47-ae5a-31dcfe14aede",
   "metadata": {},
   "outputs": [],
   "source": [
    "# Select elements from a 2-dimensional array that satisfy a specific\n",
    "# condition (e.g., values greater than a certain threshold)."
   ]
  },
  {
   "cell_type": "code",
   "execution_count": 147,
   "id": "8c04e017-01b9-4ea2-8999-f7a8feddd4a5",
   "metadata": {},
   "outputs": [
    {
     "data": {
      "text/plain": [
       "array([0.44341572, 0.82367879, 0.50496103, 0.72874513, 0.48019673])"
      ]
     },
     "execution_count": 147,
     "metadata": {},
     "output_type": "execute_result"
    }
   ],
   "source": [
    "conditioned_elements = array_2d[array_2d > 0.4]\n",
    "conditioned_elements"
   ]
  },
  {
   "cell_type": "code",
   "execution_count": null,
   "id": "d9417f11-35c3-40fa-b56c-e50e5b876849",
   "metadata": {},
   "outputs": [],
   "source": [
    "# Array Broadcasting:\n",
    "\n",
    "# Add a scalar value to each element of a 2-dimensional array.\\"
   ]
  },
  {
   "cell_type": "code",
   "execution_count": 155,
   "id": "40210fc8-7996-43bc-8a04-6c3175585c02",
   "metadata": {},
   "outputs": [
    {
     "data": {
      "text/plain": [
       "array([[3.44341572, 3.82367879, 3.08167624, 3.09690339],\n",
       "       [3.25669548, 3.04080471, 3.50496103, 3.72874513],\n",
       "       [3.3983859 , 3.48019673, 3.21250343, 3.10139556]])"
      ]
     },
     "execution_count": 155,
     "metadata": {},
     "output_type": "execute_result"
    }
   ],
   "source": [
    "scalar = array_2d + 3\n",
    "scalar"
   ]
  },
  {
   "cell_type": "code",
   "execution_count": null,
   "id": "8928a84f-63dc-428d-8912-dd04144eeea7",
   "metadata": {},
   "outputs": [],
   "source": [
    "# Multiply a 1-dimensional array with a 2-dimensional array, leveraging\n",
    "# NumPy's broadcasting rules."
   ]
  },
  {
   "cell_type": "code",
   "execution_count": 161,
   "id": "c1bbc916-8f4c-4149-b0a9-21a7cac02e29",
   "metadata": {},
   "outputs": [
    {
     "data": {
      "text/plain": [
       "array([[0.44341572, 1.64735758, 0.24502872, 0.38761357],\n",
       "       [0.25669548, 0.08160943, 1.51488309, 2.91498053],\n",
       "       [0.3983859 , 0.96039346, 0.63751029, 0.40558226]])"
      ]
     },
     "execution_count": 161,
     "metadata": {},
     "output_type": "execute_result"
    }
   ],
   "source": [
    "multiplied_array = array_1d[:4] * array_2d\n",
    "multiplied_array"
   ]
  },
  {
   "cell_type": "code",
   "execution_count": null,
   "id": "9a4eb004-7ab5-45a5-ba98-8370fa200f40",
   "metadata": {},
   "outputs": [],
   "source": [
    "# Linear Algebra:\n",
    "\n",
    "# Calculate the dot product of two 1-dimensional arrays."
   ]
  },
  {
   "cell_type": "code",
   "execution_count": 163,
   "id": "fe359395-95e4-4cc4-97a1-617455737e62",
   "metadata": {},
   "outputs": [
    {
     "data": {
      "text/plain": [
       "35"
      ]
     },
     "execution_count": 163,
     "metadata": {},
     "output_type": "execute_result"
    }
   ],
   "source": [
    "dot_product = np.dot(arr1, arr2)\n",
    "dot_product"
   ]
  },
  {
   "cell_type": "code",
   "execution_count": null,
   "id": "4b8f84b5-14f3-4e4a-9505-881e710cb9e8",
   "metadata": {},
   "outputs": [],
   "source": [
    "# Compute the matrix multiplication of two 2-dimensional arrays."
   ]
  },
  {
   "cell_type": "code",
   "execution_count": 169,
   "id": "360a1f10-e7b0-45b2-b93a-3d4f561b7d78",
   "metadata": {},
   "outputs": [
    {
     "data": {
      "text/plain": [
       "array([[22, 19],\n",
       "       [22, 19]])"
      ]
     },
     "execution_count": 169,
     "metadata": {},
     "output_type": "execute_result"
    }
   ],
   "source": [
    "matrix_a = np.random.randint(1, 5, (2, 3))\n",
    "matrix_b = np.random.randint(1, 5, (3, 2))\n",
    "matrix_multiplication = np.dot(matrix_a, matrix_b)\n",
    "matrix_multiplication"
   ]
  },
  {
   "cell_type": "code",
   "execution_count": null,
   "id": "e00158d9-2345-4e22-8536-c0fe554aa1b1",
   "metadata": {},
   "outputs": [],
   "source": [
    "# Find the inverse and determinant of a square matrix."
   ]
  },
  {
   "cell_type": "code",
   "execution_count": 177,
   "id": "1104ff1c-1ad3-48be-a4d0-8273b18ced75",
   "metadata": {},
   "outputs": [
    {
     "data": {
      "text/plain": [
       "array([[ 0.6, -0.7],\n",
       "       [-0.2,  0.4]])"
      ]
     },
     "execution_count": 177,
     "metadata": {},
     "output_type": "execute_result"
    }
   ],
   "source": [
    "square_matrix = np.array([[4, 7], [2, 6]])\n",
    "matrix_inverse = np.linalg.inv(square_matrix)\n",
    "matrix_inverse"
   ]
  },
  {
   "cell_type": "code",
   "execution_count": 179,
   "id": "08082a23-89da-4a84-a09c-1e9bc42614c9",
   "metadata": {},
   "outputs": [
    {
     "data": {
      "text/plain": [
       "10.000000000000002"
      ]
     },
     "execution_count": 179,
     "metadata": {},
     "output_type": "execute_result"
    }
   ],
   "source": [
    "matrix_determinant = np.linalg.det(square_matrix)\n",
    "matrix_determinant"
   ]
  }
 ],
 "metadata": {
  "kernelspec": {
   "display_name": "Python 3",
   "language": "python",
   "name": "python3"
  },
  "language_info": {
   "codemirror_mode": {
    "name": "ipython",
    "version": 3
   },
   "file_extension": ".py",
   "mimetype": "text/x-python",
   "name": "python",
   "nbconvert_exporter": "python",
   "pygments_lexer": "ipython3",
   "version": "3.13.0"
  }
 },
 "nbformat": 4,
 "nbformat_minor": 5
}
