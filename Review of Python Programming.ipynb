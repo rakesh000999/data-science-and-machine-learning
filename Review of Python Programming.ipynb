{
 "cells": [
  {
   "cell_type": "markdown",
   "id": "7dac9048",
   "metadata": {},
   "source": [
    "## Basic Review of the Python Fundamentals\n",
    "In this module, we will cover/ refresh the contents of Python. The topics this notebook covers are as follows: \n",
    "- Python List and Comprehensions\n",
    "- Python Dictionary and Comprehensions\n",
    "- Functions in Python\n",
    "- OOPs in Python\n",
    "- Debugging Techniques in Python."
   ]
  },
  {
   "cell_type": "markdown",
   "id": "74e1c28c",
   "metadata": {},
   "source": [
    "### Introduction to Python List\n",
    "Python lists are data structures that group sequences of elements. List can store the elements of same or different data types. Python List supports both **mutability* and **sequencial indexing**.\n",
    "\n",
    "Lists are created using square brackets and the elements separated by commas. The elements in a list can be accessed by their positions where **0** is the index of the first element:"
   ]
  },
  {
   "cell_type": "code",
   "execution_count": 1,
   "id": "0a185e86",
   "metadata": {},
   "outputs": [
    {
     "data": {
      "text/plain": [
       "[1, 2, 3, 4, 'a', 'b', 'c']"
      ]
     },
     "execution_count": 1,
     "metadata": {},
     "output_type": "execute_result"
    }
   ],
   "source": [
    "list_a = [1,2,3,4,'a','b','c']\n",
    "list_a"
   ]
  },
  {
   "cell_type": "code",
   "execution_count": 2,
   "id": "6f4601b1",
   "metadata": {},
   "outputs": [
    {
     "data": {
      "text/plain": [
       "list"
      ]
     },
     "execution_count": 2,
     "metadata": {},
     "output_type": "execute_result"
    }
   ],
   "source": [
    "type(list_a)"
   ]
  },
  {
   "cell_type": "markdown",
   "id": "1058296a",
   "metadata": {},
   "source": [
    "#### Basic Operations on Python List"
   ]
  },
  {
   "cell_type": "markdown",
   "id": "92d46486",
   "metadata": {},
   "source": [
    "##### Append\n",
    "syntax: \n",
    "append(self, object, /)  \n",
    "\n",
    "    Append object to the end of the list."
   ]
  },
  {
   "cell_type": "code",
   "execution_count": 3,
   "id": "b16737d4",
   "metadata": {},
   "outputs": [
    {
     "data": {
      "text/plain": [
       "[1, 2, 3, 4, 'a', 'b', 'c', 'hello']"
      ]
     },
     "execution_count": 3,
     "metadata": {},
     "output_type": "execute_result"
    }
   ],
   "source": [
    "list_a.append('hello')\n",
    "list_a"
   ]
  },
  {
   "cell_type": "code",
   "execution_count": 4,
   "id": "57633a71",
   "metadata": {},
   "outputs": [
    {
     "data": {
      "text/plain": [
       "3"
      ]
     },
     "execution_count": 4,
     "metadata": {},
     "output_type": "execute_result"
    }
   ],
   "source": [
    "list_b = ['Python', 'Machine Learning', 'Data Science']\n",
    "len(list_b)"
   ]
  },
  {
   "cell_type": "code",
   "execution_count": 5,
   "id": "cd857075",
   "metadata": {},
   "outputs": [],
   "source": [
    "list_a.append(list_b)"
   ]
  },
  {
   "cell_type": "code",
   "execution_count": 6,
   "id": "ccacc57e",
   "metadata": {},
   "outputs": [
    {
     "data": {
      "text/plain": [
       "[1,\n",
       " 2,\n",
       " 3,\n",
       " 4,\n",
       " 'a',\n",
       " 'b',\n",
       " 'c',\n",
       " 'hello',\n",
       " ['Python', 'Machine Learning', 'Data Science']]"
      ]
     },
     "execution_count": 6,
     "metadata": {},
     "output_type": "execute_result"
    }
   ],
   "source": [
    "list_a"
   ]
  },
  {
   "cell_type": "markdown",
   "id": "b5979f89",
   "metadata": {},
   "source": [
    "*The append() method adds the new element to the end of the list. The new list above `list_b` is treated as a single object and is appended to end of `list_a`.*"
   ]
  },
  {
   "cell_type": "markdown",
   "id": "4f765966",
   "metadata": {},
   "source": [
    "##### Extend\n",
    "\n",
    "Syntax:  \n",
    "extend(self, iterable, /)\n",
    "    Extend list by appending elements from the iterable.\n"
   ]
  },
  {
   "cell_type": "code",
   "execution_count": 3,
   "id": "f4266e3e",
   "metadata": {},
   "outputs": [
    {
     "data": {
      "text/plain": [
       "('Dell', 'Samsung', 'Toshiba')"
      ]
     },
     "execution_count": 3,
     "metadata": {},
     "output_type": "execute_result"
    }
   ],
   "source": [
    "iterable_a = ('Dell', 'Samsung', 'Toshiba')\n",
    "iterable_a"
   ]
  },
  {
   "cell_type": "code",
   "execution_count": 4,
   "id": "4fbf5eef-e531-432d-bf0f-cb482f553236",
   "metadata": {},
   "outputs": [
    {
     "name": "stdout",
     "output_type": "stream",
     "text": [
      "Dell\n",
      "Samsung\n",
      "Toshiba\n"
     ]
    }
   ],
   "source": [
    "for element in iterable_a:\n",
    "    print(element)"
   ]
  },
  {
   "cell_type": "code",
   "execution_count": 8,
   "id": "3c49d100",
   "metadata": {},
   "outputs": [
    {
     "data": {
      "text/plain": [
       "[1,\n",
       " 2,\n",
       " 3,\n",
       " 4,\n",
       " 'a',\n",
       " 'b',\n",
       " 'c',\n",
       " 'hello',\n",
       " ['Python', 'Machine Learning', 'Data Science']]"
      ]
     },
     "execution_count": 8,
     "metadata": {},
     "output_type": "execute_result"
    }
   ],
   "source": [
    "list_a"
   ]
  },
  {
   "cell_type": "code",
   "execution_count": 10,
   "id": "afd24ea6",
   "metadata": {},
   "outputs": [
    {
     "data": {
      "text/plain": [
       "[1,\n",
       " 2,\n",
       " 3,\n",
       " 4,\n",
       " 'a',\n",
       " 'b',\n",
       " 'c',\n",
       " 'hello',\n",
       " ['Python', 'Machine Learning', 'Data Science'],\n",
       " 'Dell',\n",
       " 'Samsung',\n",
       " 'Toshiba',\n",
       " 'Dell',\n",
       " 'Samsung',\n",
       " 'Toshiba']"
      ]
     },
     "execution_count": 10,
     "metadata": {},
     "output_type": "execute_result"
    }
   ],
   "source": [
    "list_a.extend(iterable_a)\n",
    "list_a"
   ]
  },
  {
   "cell_type": "code",
   "execution_count": 3,
   "id": "dad8445d",
   "metadata": {},
   "outputs": [
    {
     "data": {
      "text/plain": [
       "dict_values(['a', 'b', 'c'])"
      ]
     },
     "execution_count": 3,
     "metadata": {},
     "output_type": "execute_result"
    }
   ],
   "source": [
    "iterable_b = {1:'a',2:'b',3:'c'}\n",
    "iterable_b.values()"
   ]
  },
  {
   "cell_type": "code",
   "execution_count": 4,
   "id": "a058ceec-4b5d-4f81-8fb3-8b842d91a185",
   "metadata": {},
   "outputs": [
    {
     "data": {
      "text/plain": [
       "dict_values"
      ]
     },
     "execution_count": 4,
     "metadata": {},
     "output_type": "execute_result"
    }
   ],
   "source": [
    "type(iterable_b.values())"
   ]
  },
  {
   "cell_type": "code",
   "execution_count": 5,
   "id": "c1fff78d-8aec-4892-8ff5-dc4eed810aed",
   "metadata": {},
   "outputs": [
    {
     "ename": "AttributeError",
     "evalue": "'dict_values' object has no attribute 'to_list'",
     "output_type": "error",
     "traceback": [
      "\u001b[0;31m---------------------------------------------------------------------------\u001b[0m",
      "\u001b[0;31mAttributeError\u001b[0m                            Traceback (most recent call last)",
      "Cell \u001b[0;32mIn[5], line 1\u001b[0m\n\u001b[0;32m----> 1\u001b[0m iterable_b\u001b[38;5;241m.\u001b[39mvalues()\u001b[38;5;241m.\u001b[39mto_list()\n",
      "\u001b[0;31mAttributeError\u001b[0m: 'dict_values' object has no attribute 'to_list'"
     ]
    }
   ],
   "source": [
    "iterable_b.values().to_list()"
   ]
  },
  {
   "cell_type": "code",
   "execution_count": 13,
   "id": "4013a9bf",
   "metadata": {},
   "outputs": [
    {
     "data": {
      "text/plain": [
       "[1,\n",
       " 2,\n",
       " 3,\n",
       " 4,\n",
       " 'a',\n",
       " 'b',\n",
       " 'c',\n",
       " 'hello',\n",
       " ['Python', 'Machine Learning', 'Data Science'],\n",
       " 'Dell',\n",
       " 'Samsung',\n",
       " 'Toshiba',\n",
       " 'Dell',\n",
       " 'Samsung',\n",
       " 'Toshiba',\n",
       " 'M',\n",
       " 'a',\n",
       " 'c',\n",
       " 'B',\n",
       " 'o',\n",
       " 'o',\n",
       " 'k']"
      ]
     },
     "execution_count": 13,
     "metadata": {},
     "output_type": "execute_result"
    }
   ],
   "source": [
    "list_a.extend('MacBook')\n",
    "list_a"
   ]
  },
  {
   "cell_type": "code",
   "execution_count": 14,
   "id": "10e03af7",
   "metadata": {},
   "outputs": [
    {
     "data": {
      "text/plain": [
       "[1, 2, 3, 4, 5]"
      ]
     },
     "execution_count": 14,
     "metadata": {},
     "output_type": "execute_result"
    }
   ],
   "source": [
    "list_c = [1,2,3,4,5]\n",
    "list_c"
   ]
  },
  {
   "cell_type": "code",
   "execution_count": 7,
   "id": "13424b24-9724-44eb-a88a-15afc6b2f9b7",
   "metadata": {},
   "outputs": [
    {
     "name": "stdout",
     "output_type": "stream",
     "text": [
      "6\n",
      "7\n",
      "8\n",
      "9\n"
     ]
    }
   ],
   "source": [
    "for i in range(6,10):\n",
    "    print(i)"
   ]
  },
  {
   "cell_type": "code",
   "execution_count": 15,
   "id": "a55371f5",
   "metadata": {},
   "outputs": [
    {
     "data": {
      "text/plain": [
       "[1, 2, 3, 4, 5, 6, 7, 8, 9]"
      ]
     },
     "execution_count": 15,
     "metadata": {},
     "output_type": "execute_result"
    }
   ],
   "source": [
    "list_c.extend(range(6,10))\n",
    "list_c"
   ]
  },
  {
   "cell_type": "markdown",
   "id": "88201b86",
   "metadata": {},
   "source": [
    "##### Insert \n",
    "Syntax:   \n",
    "insert(self, index, object)  \n",
    "\n",
    "Insert object before index."
   ]
  },
  {
   "cell_type": "code",
   "execution_count": 16,
   "id": "7afad96b",
   "metadata": {},
   "outputs": [],
   "source": [
    "list_insert = ['Design', 'Patterns', 'is', 'necessary']"
   ]
  },
  {
   "cell_type": "code",
   "execution_count": 17,
   "id": "6d983c9f",
   "metadata": {},
   "outputs": [
    {
     "data": {
      "text/plain": [
       "['Design', 'Patterns', 'is', 'necessary']"
      ]
     },
     "execution_count": 17,
     "metadata": {},
     "output_type": "execute_result"
    }
   ],
   "source": [
    "list_insert"
   ]
  },
  {
   "cell_type": "markdown",
   "id": "b9f57eeb",
   "metadata": {},
   "source": [
    "If we want to add `very` in between `is` and `necessary`, we need to identify the index at which we want to insert the elements."
   ]
  },
  {
   "cell_type": "code",
   "execution_count": 18,
   "id": "7857918b",
   "metadata": {},
   "outputs": [
    {
     "data": {
      "text/plain": [
       "4"
      ]
     },
     "execution_count": 18,
     "metadata": {},
     "output_type": "execute_result"
    }
   ],
   "source": [
    "len(list_insert)"
   ]
  },
  {
   "cell_type": "code",
   "execution_count": 19,
   "id": "a970546c",
   "metadata": {},
   "outputs": [
    {
     "data": {
      "text/plain": [
       "['Design', 'Patterns', 'is', 'very', 'necessary']"
      ]
     },
     "execution_count": 19,
     "metadata": {},
     "output_type": "execute_result"
    }
   ],
   "source": [
    "list_insert.insert(3, 'very')\n",
    "list_insert"
   ]
  },
  {
   "cell_type": "markdown",
   "id": "c9be5fd6",
   "metadata": {},
   "source": [
    "##### Pop\n",
    "Syntax:  \n",
    "pop(self, index=-1)    \n",
    "Remove and return item at index (default last).\n",
    "\n",
    "Raises `IndexError` if list is empty or index is out of range."
   ]
  },
  {
   "cell_type": "code",
   "execution_count": 20,
   "id": "b9e23917",
   "metadata": {},
   "outputs": [
    {
     "data": {
      "text/plain": [
       "[1, 2, 3, 4, 5, 6, 7, 8]"
      ]
     },
     "execution_count": 20,
     "metadata": {},
     "output_type": "execute_result"
    }
   ],
   "source": [
    "list_pop = [1,2,3,4,5,6,7,8]\n",
    "list_pop"
   ]
  },
  {
   "cell_type": "code",
   "execution_count": 21,
   "id": "342477a7",
   "metadata": {},
   "outputs": [
    {
     "data": {
      "text/plain": [
       "8"
      ]
     },
     "execution_count": 21,
     "metadata": {},
     "output_type": "execute_result"
    }
   ],
   "source": [
    "list_pop.pop()"
   ]
  },
  {
   "cell_type": "code",
   "execution_count": 22,
   "id": "3a22bc4d",
   "metadata": {},
   "outputs": [
    {
     "data": {
      "text/plain": [
       "[1, 2, 3, 4, 5, 6, 7]"
      ]
     },
     "execution_count": 22,
     "metadata": {},
     "output_type": "execute_result"
    }
   ],
   "source": [
    "list_pop"
   ]
  },
  {
   "cell_type": "markdown",
   "id": "75b94433",
   "metadata": {},
   "source": [
    "If we want to remove **4** from the list, we need to indentify the index of the corresponding element and pass it as an argument to the method."
   ]
  },
  {
   "cell_type": "code",
   "execution_count": 5,
   "id": "22ea0668",
   "metadata": {},
   "outputs": [
    {
     "ename": "NameError",
     "evalue": "name 'list_pop' is not defined",
     "output_type": "error",
     "traceback": [
      "\u001b[1;31m---------------------------------------------------------------------------\u001b[0m",
      "\u001b[1;31mNameError\u001b[0m                                 Traceback (most recent call last)",
      "Cell \u001b[1;32mIn[5], line 1\u001b[0m\n\u001b[1;32m----> 1\u001b[0m index \u001b[38;5;241m=\u001b[39m \u001b[43mlist_pop\u001b[49m\u001b[38;5;241m.\u001b[39mindex(\u001b[38;5;241m4\u001b[39m)\n\u001b[0;32m      2\u001b[0m index\n",
      "\u001b[1;31mNameError\u001b[0m: name 'list_pop' is not defined"
     ]
    }
   ],
   "source": [
    "index = list_pop.index(4)\n",
    "index"
   ]
  },
  {
   "cell_type": "code",
   "execution_count": 24,
   "id": "43c372f7",
   "metadata": {},
   "outputs": [
    {
     "data": {
      "text/plain": [
       "4"
      ]
     },
     "execution_count": 24,
     "metadata": {},
     "output_type": "execute_result"
    }
   ],
   "source": [
    "list_pop.pop(3)"
   ]
  },
  {
   "cell_type": "code",
   "execution_count": 25,
   "id": "622e57e0",
   "metadata": {},
   "outputs": [
    {
     "data": {
      "text/plain": [
       "[1, 2, 3, 5, 6, 7]"
      ]
     },
     "execution_count": 25,
     "metadata": {},
     "output_type": "execute_result"
    }
   ],
   "source": [
    "list_pop"
   ]
  },
  {
   "cell_type": "markdown",
   "id": "6076ebf7",
   "metadata": {},
   "source": [
    "##### Remove\n",
    "Syntax:  \n",
    "remove(self, value)  \n",
    "Remove first occurrence of value.\n",
    "\n",
    "Raises ValueError if the value is not present.\n"
   ]
  },
  {
   "cell_type": "code",
   "execution_count": 26,
   "id": "d6899f8c",
   "metadata": {},
   "outputs": [
    {
     "data": {
      "text/plain": [
       "['Hello', 'Geeks', 'Hello', 'Programmers', 'I', 'am', 'Pythonic']"
      ]
     },
     "execution_count": 26,
     "metadata": {},
     "output_type": "execute_result"
    }
   ],
   "source": [
    "list_remove = ['Hello','Geeks', 'Hello', 'Programmers','I', 'am','Pythonic']\n",
    "list_remove"
   ]
  },
  {
   "cell_type": "code",
   "execution_count": null,
   "id": "8900a74d",
   "metadata": {},
   "outputs": [],
   "source": [
    "list_remove.remove('Hello')\n",
    "\n"
   ]
  },
  {
   "cell_type": "code",
   "execution_count": null,
   "id": "f2c05687",
   "metadata": {},
   "outputs": [
    {
     "data": {
      "text/plain": [
       "['Geeks', 'Hello', 'Programmers', 'I', 'am', 'Pythonic']"
      ]
     },
     "execution_count": 28,
     "metadata": {},
     "output_type": "execute_result"
    }
   ],
   "source": [
    "list_remove"
   ]
  },
  {
   "cell_type": "code",
   "execution_count": 29,
   "id": "30e83b6b",
   "metadata": {},
   "outputs": [
    {
     "ename": "ValueError",
     "evalue": "list.remove(x): x not in list",
     "output_type": "error",
     "traceback": [
      "\u001b[0;31m---------------------------------------------------------------------------\u001b[0m",
      "\u001b[0;31mValueError\u001b[0m                                Traceback (most recent call last)",
      "Input \u001b[0;32mIn [29]\u001b[0m, in \u001b[0;36m<cell line: 1>\u001b[0;34m()\u001b[0m\n\u001b[0;32m----> 1\u001b[0m \u001b[43mlist_remove\u001b[49m\u001b[38;5;241;43m.\u001b[39;49m\u001b[43mremove\u001b[49m\u001b[43m(\u001b[49m\u001b[38;5;124;43m'\u001b[39;49m\u001b[38;5;124;43mJava\u001b[39;49m\u001b[38;5;124;43m'\u001b[39;49m\u001b[43m)\u001b[49m\n",
      "\u001b[0;31mValueError\u001b[0m: list.remove(x): x not in list"
     ]
    }
   ],
   "source": [
    "list_remove.remove('Java')"
   ]
  },
  {
   "cell_type": "markdown",
   "id": "61c648ee",
   "metadata": {},
   "source": [
    "##### Sort\n",
    "Syntax:  \n",
    "\n",
    "sort(self, /, *, key=None, reverse=False)  \n",
    "\n",
    "Sort the list in ascending order and return None.\n",
    "    \n",
    "The sort is in-place (i.e. the list itself is modified) and stable (i.e. the\n",
    "order of two equal elements is maintained).\n",
    "\n",
    "If a key function is given, apply it once to each list item and sort them,\n",
    "ascending or descending, according to their function values.\n",
    "\n",
    "The reverse flag can be set to sort in descending order."
   ]
  },
  {
   "cell_type": "code",
   "execution_count": 6,
   "id": "6c4dd103",
   "metadata": {},
   "outputs": [],
   "source": [
    "list_sort = [43,23,22,1,98,34,50]\n",
    "list_sort_2 = list_sort.copy()"
   ]
  },
  {
   "cell_type": "code",
   "execution_count": 4,
   "id": "28bf2f4d",
   "metadata": {},
   "outputs": [
    {
     "ename": "NameError",
     "evalue": "name 'list_sort' is not defined",
     "output_type": "error",
     "traceback": [
      "\u001b[1;31m---------------------------------------------------------------------------\u001b[0m",
      "\u001b[1;31mNameError\u001b[0m                                 Traceback (most recent call last)",
      "Cell \u001b[1;32mIn[4], line 1\u001b[0m\n\u001b[1;32m----> 1\u001b[0m \u001b[43mlist_sort\u001b[49m\u001b[38;5;241m.\u001b[39msort()\n\u001b[0;32m      2\u001b[0m list_sort\n",
      "\u001b[1;31mNameError\u001b[0m: name 'list_sort' is not defined"
     ]
    }
   ],
   "source": [
    "list_sort.sort()\n",
    "list_sort"
   ]
  },
  {
   "cell_type": "code",
   "execution_count": 2,
   "id": "d925ca68-89a9-4e82-8a99-a8608f0686e4",
   "metadata": {},
   "outputs": [
    {
     "ename": "NameError",
     "evalue": "name 'list_sort' is not defined",
     "output_type": "error",
     "traceback": [
      "\u001b[1;31m---------------------------------------------------------------------------\u001b[0m",
      "\u001b[1;31mNameError\u001b[0m                                 Traceback (most recent call last)",
      "Cell \u001b[1;32mIn[2], line 1\u001b[0m\n\u001b[1;32m----> 1\u001b[0m help(\u001b[43mlist_sort\u001b[49m)\n",
      "\u001b[1;31mNameError\u001b[0m: name 'list_sort' is not defined"
     ]
    }
   ],
   "source": [
    "help(list_sort)"
   ]
  },
  {
   "cell_type": "code",
   "execution_count": 32,
   "id": "3e775f7e",
   "metadata": {},
   "outputs": [],
   "source": [
    "list_sort_2.sort(reverse=True)"
   ]
  },
  {
   "cell_type": "code",
   "execution_count": 33,
   "id": "9d131892",
   "metadata": {},
   "outputs": [
    {
     "data": {
      "text/plain": [
       "[98, 50, 43, 34, 23, 22, 1]"
      ]
     },
     "execution_count": 33,
     "metadata": {},
     "output_type": "execute_result"
    }
   ],
   "source": [
    "list_sort_2"
   ]
  },
  {
   "cell_type": "markdown",
   "id": "099ee011",
   "metadata": {},
   "source": [
    "#### Accessing Python List\n",
    "List allows to use the access and slice mechanism as `list[start:end:step]`. If options are omitted, `start` defaults to beginning of the list, `end` to the end of the list and `step` to 1."
   ]
  },
  {
   "cell_type": "code",
   "execution_count": 34,
   "id": "2bdf0102",
   "metadata": {},
   "outputs": [
    {
     "data": {
      "text/plain": [
       "[1, 3, 5, 6, 7, 8, 9]"
      ]
     },
     "execution_count": 34,
     "metadata": {},
     "output_type": "execute_result"
    }
   ],
   "source": [
    "list_a = [1,3,5,6,7,8,9]\n",
    "list_a"
   ]
  },
  {
   "cell_type": "code",
   "execution_count": 35,
   "id": "77b0c03b",
   "metadata": {},
   "outputs": [
    {
     "data": {
      "text/plain": [
       "1"
      ]
     },
     "execution_count": 35,
     "metadata": {},
     "output_type": "execute_result"
    }
   ],
   "source": [
    "list_a[0]"
   ]
  },
  {
   "cell_type": "code",
   "execution_count": 36,
   "id": "1d56032f",
   "metadata": {},
   "outputs": [
    {
     "data": {
      "text/plain": [
       "9"
      ]
     },
     "execution_count": 36,
     "metadata": {},
     "output_type": "execute_result"
    }
   ],
   "source": [
    "list_a[-1]"
   ]
  },
  {
   "cell_type": "code",
   "execution_count": 37,
   "id": "8b33e583",
   "metadata": {},
   "outputs": [
    {
     "data": {
      "text/plain": [
       "[5, 6]"
      ]
     },
     "execution_count": 37,
     "metadata": {},
     "output_type": "execute_result"
    }
   ],
   "source": [
    "list_a[2:4]"
   ]
  },
  {
   "cell_type": "code",
   "execution_count": 38,
   "id": "6d072a77",
   "metadata": {},
   "outputs": [
    {
     "data": {
      "text/plain": [
       "[9, 8, 7, 6, 5, 3, 1]"
      ]
     },
     "execution_count": 38,
     "metadata": {},
     "output_type": "execute_result"
    }
   ],
   "source": [
    "list_a[::-1]"
   ]
  },
  {
   "cell_type": "code",
   "execution_count": 39,
   "id": "694c9d03",
   "metadata": {},
   "outputs": [
    {
     "data": {
      "text/plain": [
       "[6, 8]"
      ]
     },
     "execution_count": 39,
     "metadata": {},
     "output_type": "execute_result"
    }
   ],
   "source": [
    "list_a[3:7:2]"
   ]
  },
  {
   "cell_type": "markdown",
   "id": "5c9a0a92",
   "metadata": {},
   "source": [
    "#### Iterating a list"
   ]
  },
  {
   "cell_type": "code",
   "execution_count": 40,
   "id": "e9d10180",
   "metadata": {},
   "outputs": [
    {
     "data": {
      "text/plain": [
       "['Python', 'Rust', 'Ruby', 'Java', 'PHP']"
      ]
     },
     "execution_count": 40,
     "metadata": {},
     "output_type": "execute_result"
    }
   ],
   "source": [
    "list_for_iteration = ['Python', 'Rust','Ruby','Java','PHP']\n",
    "list_for_iteration"
   ]
  },
  {
   "cell_type": "code",
   "execution_count": 41,
   "id": "980a474e",
   "metadata": {},
   "outputs": [
    {
     "name": "stdout",
     "output_type": "stream",
     "text": [
      "Python\n",
      "Rust\n",
      "Ruby\n",
      "Java\n",
      "PHP\n"
     ]
    }
   ],
   "source": [
    "for item in list_for_iteration:\n",
    "    print(item)"
   ]
  },
  {
   "cell_type": "markdown",
   "id": "df00de53",
   "metadata": {},
   "source": [
    "*To get the position (index) along with the item, we use `enumerate` along with the loop.*"
   ]
  },
  {
   "cell_type": "code",
   "execution_count": 42,
   "id": "210fff0c",
   "metadata": {},
   "outputs": [
    {
     "name": "stdout",
     "output_type": "stream",
     "text": [
      "0 Python\n",
      "1 Rust\n",
      "2 Ruby\n",
      "3 Java\n",
      "4 PHP\n"
     ]
    }
   ],
   "source": [
    "for idx, item in enumerate(list_for_iteration):\n",
    "    print(idx, item)"
   ]
  },
  {
   "cell_type": "markdown",
   "id": "77c90be6",
   "metadata": {},
   "source": [
    "#### Concatenation and Merging lists"
   ]
  },
  {
   "cell_type": "code",
   "execution_count": 43,
   "id": "be3567dd",
   "metadata": {},
   "outputs": [],
   "source": [
    "list_a = [1,2,3,4]\n",
    "list_b = ['a','b','c','d']"
   ]
  },
  {
   "cell_type": "code",
   "execution_count": 44,
   "id": "1fdc1557",
   "metadata": {},
   "outputs": [
    {
     "data": {
      "text/plain": [
       "[1, 2, 3, 4, 'a', 'b', 'c', 'd']"
      ]
     },
     "execution_count": 44,
     "metadata": {},
     "output_type": "execute_result"
    }
   ],
   "source": [
    "result = list_a + list_b\n",
    "result"
   ]
  },
  {
   "cell_type": "code",
   "execution_count": 45,
   "id": "a0afae22",
   "metadata": {},
   "outputs": [
    {
     "name": "stdout",
     "output_type": "stream",
     "text": [
      "(1, 'a')\n",
      "(2, 'b')\n",
      "(3, 'c')\n",
      "(4, 'd')\n"
     ]
    }
   ],
   "source": [
    "for items in zip(list_a,list_b):\n",
    "    print(items)"
   ]
  },
  {
   "cell_type": "markdown",
   "id": "ccc19348",
   "metadata": {},
   "source": [
    "*For combining the list of unequal length to the longest one, we generally use the **pad** as `None` through `itertools` module.*"
   ]
  },
  {
   "cell_type": "code",
   "execution_count": 46,
   "id": "4f5f1fc7",
   "metadata": {},
   "outputs": [],
   "source": [
    "import itertools"
   ]
  },
  {
   "cell_type": "code",
   "execution_count": 47,
   "id": "7f411d8a",
   "metadata": {},
   "outputs": [],
   "source": [
    "list_c = ['dell','samsung']"
   ]
  },
  {
   "cell_type": "code",
   "execution_count": 48,
   "id": "f608ab5a",
   "metadata": {},
   "outputs": [
    {
     "name": "stdout",
     "output_type": "stream",
     "text": [
      "1 a dell\n",
      "2 b samsung\n",
      "3 c None\n",
      "4 d None\n"
     ]
    }
   ],
   "source": [
    "for a,b,c in itertools.zip_longest(list_a,list_b,list_c):\n",
    "    print(a,b,c)"
   ]
  },
  {
   "cell_type": "markdown",
   "id": "202a1a01",
   "metadata": {},
   "source": [
    "#### Remove Duplicate Values from the list\n",
    "\n",
    "To remove the duplicate values form the list, we don't need to iterate over the list and count every occurance of each members in a list. The duplication removal from list is easy in Python. We simply **typecast** the list to another data structure in Python called **set**. **Set** holds the unique set of values without preserving the order. "
   ]
  },
  {
   "cell_type": "code",
   "execution_count": 49,
   "id": "9f0fc881",
   "metadata": {},
   "outputs": [
    {
     "data": {
      "text/plain": [
       "[1, 2, 3, 3, 4, 5, 4, 6, 2, 8, 4, 8, 'a']"
      ]
     },
     "execution_count": 49,
     "metadata": {},
     "output_type": "execute_result"
    }
   ],
   "source": [
    "list_with_duplicates = [1,2,3,3,4,5,4,6,2,8,4,8,'a']\n",
    "list_with_duplicates"
   ]
  },
  {
   "cell_type": "code",
   "execution_count": 50,
   "id": "e5393819",
   "metadata": {},
   "outputs": [
    {
     "data": {
      "text/plain": [
       "{1, 2, 3, 4, 5, 6, 8, 'a'}"
      ]
     },
     "execution_count": 50,
     "metadata": {},
     "output_type": "execute_result"
    }
   ],
   "source": [
    "list_after_removing_duplicates = set(list_with_duplicates)\n",
    "list_after_removing_duplicates"
   ]
  },
  {
   "cell_type": "code",
   "execution_count": 51,
   "id": "f8a87ccc",
   "metadata": {},
   "outputs": [
    {
     "data": {
      "text/plain": [
       "set"
      ]
     },
     "execution_count": 51,
     "metadata": {},
     "output_type": "execute_result"
    }
   ],
   "source": [
    "type(list_after_removing_duplicates)"
   ]
  },
  {
   "cell_type": "code",
   "execution_count": 52,
   "id": "5d18f0be",
   "metadata": {},
   "outputs": [
    {
     "data": {
      "text/plain": [
       "{1, 2, 3, 4, 5, 6, 8, 'a'}"
      ]
     },
     "execution_count": 52,
     "metadata": {},
     "output_type": "execute_result"
    }
   ],
   "source": [
    "list_after_removing_duplicates"
   ]
  },
  {
   "cell_type": "markdown",
   "id": "e7ea410c",
   "metadata": {},
   "source": [
    "#### Iterating over nested list"
   ]
  },
  {
   "cell_type": "code",
   "execution_count": 53,
   "id": "1454379e",
   "metadata": {},
   "outputs": [],
   "source": [
    "nested_list = [[1,2,3], [4,5,6], [7,8]]"
   ]
  },
  {
   "cell_type": "code",
   "execution_count": 54,
   "id": "d7192833",
   "metadata": {},
   "outputs": [
    {
     "name": "stdout",
     "output_type": "stream",
     "text": [
      "[1, 2, 3]\n",
      "1\n",
      "2\n",
      "3\n",
      "[4, 5, 6]\n",
      "4\n",
      "5\n",
      "6\n",
      "[7, 8]\n",
      "7\n",
      "8\n"
     ]
    }
   ],
   "source": [
    "for items in nested_list:\n",
    "    print(items)\n",
    "    for item in items:\n",
    "        print(item)"
   ]
  },
  {
   "cell_type": "markdown",
   "id": "de7e1f08",
   "metadata": {},
   "source": [
    "### List Comprehensions\n",
    "List comprehensions are simply a way to compress a list-building for-loop into a single short, readable line. List comprehensions can be used to generate list from other iterables in a single line of code. List Comprehension is considered more efficient and is a Pythonic way to deal with list operations.\n",
    "\n",
    "This basic syntax, then, is `[<expression> for <variable> in <iterable>]`, where `expression` is any **valid expression**, `variable` is a **variable name**, and `iterable` is any **iterable Python object**."
   ]
  },
  {
   "cell_type": "markdown",
   "id": "eeb9bba3",
   "metadata": {},
   "source": [
    "##### For Loop vs Compreshension\n",
    "Consider a scnerio where we need to print the first letter of every word in a sentence. To solve this, the ordinary way is to iterate over the sentence and grab each item and again get the first character from each item. Lets look how we can apply comprehensions to the scnerio."
   ]
  },
  {
   "cell_type": "code",
   "execution_count": 10,
   "id": "8f87e050",
   "metadata": {},
   "outputs": [],
   "source": [
    "test_sentence = \"Hello enthusiasts! Let's dive deep into Python\""
   ]
  },
  {
   "cell_type": "markdown",
   "id": "4a803c20",
   "metadata": {},
   "source": [
    "Lets go with the ordinary way first."
   ]
  },
  {
   "cell_type": "code",
   "execution_count": 11,
   "id": "2d09d0e3",
   "metadata": {},
   "outputs": [
    {
     "name": "stdout",
     "output_type": "stream",
     "text": [
      "Hello\n",
      "enthusiasts!\n",
      "Let's\n",
      "dive\n",
      "deep\n",
      "into\n",
      "Python\n"
     ]
    }
   ],
   "source": [
    "#get each word in the sentence. To grab each word, we need a split method.\n",
    "list_of_first_chars = []\n",
    "for items in test_sentence.split():\n",
    "    print(items)\n",
    "    list_of_first_chars.append(items[0])"
   ]
  },
  {
   "cell_type": "code",
   "execution_count": 12,
   "id": "923fe798",
   "metadata": {},
   "outputs": [
    {
     "data": {
      "text/plain": [
       "['H', 'e', 'L', 'd', 'd', 'i', 'P']"
      ]
     },
     "execution_count": 12,
     "metadata": {},
     "output_type": "execute_result"
    }
   ],
   "source": [
    "list_of_first_chars"
   ]
  },
  {
   "cell_type": "markdown",
   "id": "420f383c",
   "metadata": {},
   "source": [
    "Lets try out the comprehension now!"
   ]
  },
  {
   "cell_type": "code",
   "execution_count": 58,
   "id": "ff6074d7",
   "metadata": {},
   "outputs": [],
   "source": [
    "list_of_first_chars_comp = [items[0] for items in test_sentence.split()]"
   ]
  },
  {
   "cell_type": "code",
   "execution_count": 59,
   "id": "97ba3963",
   "metadata": {},
   "outputs": [
    {
     "data": {
      "text/plain": [
       "['H', 'e', 'L', 'd', 'd', 'i', 'P']"
      ]
     },
     "execution_count": 59,
     "metadata": {},
     "output_type": "execute_result"
    }
   ],
   "source": [
    "list_of_first_chars_comp"
   ]
  },
  {
   "cell_type": "markdown",
   "id": "264ac8c8",
   "metadata": {},
   "source": [
    "We even can apply **conditions** to list comprehensions. The syntax is as follows:  \n",
    "`[<expression> for <variable> in <iterable> if <condition>]`"
   ]
  },
  {
   "cell_type": "code",
   "execution_count": 13,
   "id": "84cf56f6-7368-400e-9c4e-95815343f9bc",
   "metadata": {},
   "outputs": [],
   "source": [
    "a = [1,2,3,4,5,6,7,8,9,10]"
   ]
  },
  {
   "cell_type": "code",
   "execution_count": 14,
   "id": "2990c688-a63f-4a38-b8fc-9f5e0933b7e7",
   "metadata": {},
   "outputs": [],
   "source": [
    "even_nums = [item for item in a if item%2==0]"
   ]
  },
  {
   "cell_type": "code",
   "execution_count": 15,
   "id": "502b25d5-8bda-43e8-8b12-63a9de7196f3",
   "metadata": {},
   "outputs": [
    {
     "data": {
      "text/plain": [
       "[2, 4, 6, 8, 10]"
      ]
     },
     "execution_count": 15,
     "metadata": {},
     "output_type": "execute_result"
    }
   ],
   "source": [
    "even_nums"
   ]
  },
  {
   "cell_type": "markdown",
   "id": "93ee78af",
   "metadata": {},
   "source": [
    "For the above scnerio, if we want to exclude the words that starts with **H** or **h**, the code can be modified as:"
   ]
  },
  {
   "cell_type": "code",
   "execution_count": 60,
   "id": "7721cf8d",
   "metadata": {},
   "outputs": [],
   "source": [
    "list_of_filtered_chars_comp = [items[0] for items in test_sentence.split() if items[0] not in ['h','H']]"
   ]
  },
  {
   "cell_type": "code",
   "execution_count": 61,
   "id": "16804024",
   "metadata": {},
   "outputs": [
    {
     "data": {
      "text/plain": [
       "['e', 'L', 'd', 'd', 'i', 'P']"
      ]
     },
     "execution_count": 61,
     "metadata": {},
     "output_type": "execute_result"
    }
   ],
   "source": [
    "list_of_filtered_chars_comp"
   ]
  },
  {
   "cell_type": "code",
   "execution_count": 83,
   "id": "b14a7cdb",
   "metadata": {},
   "outputs": [
    {
     "ename": "SyntaxError",
     "evalue": "invalid syntax (1863910610.py, line 1)",
     "output_type": "error",
     "traceback": [
      "\u001b[0;36m  Input \u001b[0;32mIn [83]\u001b[0;36m\u001b[0m\n\u001b[0;31m    list_of_filtered_chars_comp = [items[0] if items[0] not in ['h','H'] for items in test_sentence.split()]\u001b[0m\n\u001b[0m                                                                         ^\u001b[0m\n\u001b[0;31mSyntaxError\u001b[0m\u001b[0;31m:\u001b[0m invalid syntax\n"
     ]
    }
   ],
   "source": [
    "list_of_filtered_chars_comp = [items[0] if items[0] not in ['h','H'] for items in test_sentence.split()]"
   ]
  },
  {
   "cell_type": "markdown",
   "id": "d1c82db1",
   "metadata": {},
   "source": [
    "Quick Task: Given a list of numbers from 1 to 30. Prepare a new list of items such that the list contains the square of numbers in original list if the number is divisible by 3 else the original number. \n",
    "\n",
    "If `a = [1,2,3,4,5,6,.....]` the new list should have the output `new_list=[1,2,9,4,5,36,.........]`"
   ]
  },
  {
   "cell_type": "code",
   "execution_count": 88,
   "id": "cad80fde",
   "metadata": {},
   "outputs": [],
   "source": [
    "a = list(range(1,31))"
   ]
  },
  {
   "cell_type": "code",
   "execution_count": 92,
   "id": "94c178e2",
   "metadata": {},
   "outputs": [
    {
     "data": {
      "text/plain": [
       "[1,\n",
       " 2,\n",
       " 9,\n",
       " 4,\n",
       " 5,\n",
       " 36,\n",
       " 7,\n",
       " 8,\n",
       " 81,\n",
       " 10,\n",
       " 11,\n",
       " 144,\n",
       " 13,\n",
       " 14,\n",
       " 225,\n",
       " 16,\n",
       " 17,\n",
       " 324,\n",
       " 19,\n",
       " 20,\n",
       " 441,\n",
       " 22,\n",
       " 23,\n",
       " 576,\n",
       " 25,\n",
       " 26,\n",
       " 729,\n",
       " 28,\n",
       " 29,\n",
       " 900]"
      ]
     },
     "execution_count": 92,
     "metadata": {},
     "output_type": "execute_result"
    }
   ],
   "source": [
    "new_list = [x**2 if x % 3 == 0 else x for x in a]\n",
    "new_list"
   ]
  },
  {
   "cell_type": "code",
   "execution_count": 62,
   "id": "00076e43",
   "metadata": {},
   "outputs": [],
   "source": [
    "# Convert Celsius to Fahrenheit\n",
    "celsius = [0,10,20.1,34.5]\n",
    "\n",
    "fahrenheit = [((9/5)*temp + 32) for temp in celsius ]"
   ]
  },
  {
   "cell_type": "markdown",
   "id": "33d3bc04",
   "metadata": {},
   "source": []
  },
  {
   "cell_type": "markdown",
   "id": "8d989d9c",
   "metadata": {},
   "source": []
  },
  {
   "cell_type": "code",
   "execution_count": 63,
   "id": "ae78b15a",
   "metadata": {},
   "outputs": [
    {
     "data": {
      "text/plain": [
       "[32.0, 50.0, 68.18, 94.1]"
      ]
     },
     "execution_count": 63,
     "metadata": {},
     "output_type": "execute_result"
    }
   ],
   "source": [
    "fahrenheit\n"
   ]
  },
  {
   "cell_type": "markdown",
   "id": "cb8df3b9",
   "metadata": {},
   "source": [
    "### Introduction to Python Dictionary\n",
    "A dictionary in Python is a data structure that stores the objects in **key-value** pairs. The retrieval of values is through the unique keys and thus helps in faster lookups.\n",
    "\n",
    "Dictionary is created using curly braces and key value pair within the braces. "
   ]
  },
  {
   "cell_type": "code",
   "execution_count": 64,
   "id": "d3651156",
   "metadata": {},
   "outputs": [
    {
     "data": {
      "text/plain": [
       "{}"
      ]
     },
     "execution_count": 64,
     "metadata": {},
     "output_type": "execute_result"
    }
   ],
   "source": [
    "dict_a = {}\n",
    "dict_a"
   ]
  },
  {
   "cell_type": "code",
   "execution_count": 65,
   "id": "c0af5734",
   "metadata": {},
   "outputs": [
    {
     "data": {
      "text/plain": [
       "dict"
      ]
     },
     "execution_count": 65,
     "metadata": {},
     "output_type": "execute_result"
    }
   ],
   "source": [
    "type(dict_a)"
   ]
  },
  {
   "cell_type": "code",
   "execution_count": 66,
   "id": "8d1ce638",
   "metadata": {},
   "outputs": [
    {
     "data": {
      "text/plain": [
       "{1: 'a', 2: 'b'}"
      ]
     },
     "execution_count": 66,
     "metadata": {},
     "output_type": "execute_result"
    }
   ],
   "source": [
    "dict_b = {1:'a',2:'b'}\n",
    "dict_b"
   ]
  },
  {
   "cell_type": "markdown",
   "id": "af6aa9d9",
   "metadata": {},
   "source": [
    "We can check the keys and the values of dictionary using `keys()` and `values()` along with the dictionary."
   ]
  },
  {
   "cell_type": "code",
   "execution_count": 67,
   "id": "6b75c6e1",
   "metadata": {},
   "outputs": [
    {
     "data": {
      "text/plain": [
       "dict_keys([1, 2])"
      ]
     },
     "execution_count": 67,
     "metadata": {},
     "output_type": "execute_result"
    }
   ],
   "source": [
    "dict_b.keys()"
   ]
  },
  {
   "cell_type": "code",
   "execution_count": 68,
   "id": "94c71250",
   "metadata": {},
   "outputs": [
    {
     "data": {
      "text/plain": [
       "dict_values(['a', 'b'])"
      ]
     },
     "execution_count": 68,
     "metadata": {},
     "output_type": "execute_result"
    }
   ],
   "source": [
    "dict_b.values()"
   ]
  },
  {
   "cell_type": "markdown",
   "id": "2edf516c",
   "metadata": {},
   "source": [
    "Dictionary can also be created using `dict()` "
   ]
  },
  {
   "cell_type": "code",
   "execution_count": 69,
   "id": "38bcdfc4",
   "metadata": {},
   "outputs": [],
   "source": [
    "dict_c = dict()"
   ]
  },
  {
   "cell_type": "code",
   "execution_count": 70,
   "id": "513c7973",
   "metadata": {},
   "outputs": [
    {
     "data": {
      "text/plain": [
       "dict"
      ]
     },
     "execution_count": 70,
     "metadata": {},
     "output_type": "execute_result"
    }
   ],
   "source": [
    "type(dict_c)"
   ]
  },
  {
   "cell_type": "markdown",
   "id": "fbf70f83",
   "metadata": {},
   "source": [
    "#### Accessing and Modifying the Dictionary"
   ]
  },
  {
   "cell_type": "markdown",
   "id": "9f206fe9",
   "metadata": {},
   "source": [
    "We access the dictionary value using the corresponding key. If the key is not present in the dictionary, `KeyError` is raised."
   ]
  },
  {
   "cell_type": "code",
   "execution_count": 71,
   "id": "74ceba3a",
   "metadata": {},
   "outputs": [
    {
     "data": {
      "text/plain": [
       "dict_keys([1, 2])"
      ]
     },
     "execution_count": 71,
     "metadata": {},
     "output_type": "execute_result"
    }
   ],
   "source": [
    "dict_b.keys()"
   ]
  },
  {
   "cell_type": "code",
   "execution_count": 72,
   "id": "a0b4e636",
   "metadata": {},
   "outputs": [
    {
     "data": {
      "text/plain": [
       "'a'"
      ]
     },
     "execution_count": 72,
     "metadata": {},
     "output_type": "execute_result"
    }
   ],
   "source": [
    "dict_b[1]"
   ]
  },
  {
   "cell_type": "code",
   "execution_count": 73,
   "id": "de886796",
   "metadata": {},
   "outputs": [
    {
     "data": {
      "text/plain": [
       "{'name': 'Steve Jobs', 'address': 'USA', 'company': 'Apple'}"
      ]
     },
     "execution_count": 73,
     "metadata": {},
     "output_type": "execute_result"
    }
   ],
   "source": [
    "dict_d = {'name':'Steve Jobs','address':'USA', 'company':'Apple'}\n",
    "dict_d"
   ]
  },
  {
   "cell_type": "code",
   "execution_count": 74,
   "id": "a7d5b84f",
   "metadata": {},
   "outputs": [
    {
     "name": "stdout",
     "output_type": "stream",
     "text": [
      "Sorry Key Not found\n"
     ]
    }
   ],
   "source": [
    "try: \n",
    "    name, salary = dict_d['name'], dict_d['salary']\n",
    "except KeyError:\n",
    "    print('Sorry Key Not found')"
   ]
  },
  {
   "cell_type": "code",
   "execution_count": 75,
   "id": "77aefe76",
   "metadata": {},
   "outputs": [],
   "source": [
    "dict_d['salary'] = '$79000'"
   ]
  },
  {
   "cell_type": "code",
   "execution_count": 76,
   "id": "9dfaf2a9",
   "metadata": {},
   "outputs": [
    {
     "data": {
      "text/plain": [
       "{'name': 'Steve Jobs',\n",
       " 'address': 'USA',\n",
       " 'company': 'Apple',\n",
       " 'salary': '$79000'}"
      ]
     },
     "execution_count": 76,
     "metadata": {},
     "output_type": "execute_result"
    }
   ],
   "source": [
    "dict_d"
   ]
  },
  {
   "cell_type": "code",
   "execution_count": 77,
   "id": "a4691ff6",
   "metadata": {},
   "outputs": [
    {
     "name": "stdout",
     "output_type": "stream",
     "text": [
      "name: Steve Jobs salary: $79000\n"
     ]
    }
   ],
   "source": [
    "try: \n",
    "    name, salary = dict_d['name'], dict_d['salary']\n",
    "    print(f'name: {name} salary: {salary}')\n",
    "except KeyError:\n",
    "    print('Sorry Key Not found')"
   ]
  },
  {
   "cell_type": "markdown",
   "id": "7abfec4d",
   "metadata": {},
   "source": [
    "#### Iterating over a dictionary"
   ]
  },
  {
   "cell_type": "markdown",
   "id": "1873e7c4",
   "metadata": {},
   "source": [
    "To iterate over key-value pair, we use `items()` on dictionary iterations."
   ]
  },
  {
   "cell_type": "code",
   "execution_count": 78,
   "id": "dfd7c1ce",
   "metadata": {},
   "outputs": [
    {
     "name": "stdout",
     "output_type": "stream",
     "text": [
      "name: Steve Jobs\n",
      "address: USA\n",
      "company: Apple\n",
      "salary: $79000\n"
     ]
    }
   ],
   "source": [
    "for key, value in dict_d.items():\n",
    "    print(key + \":\", value)"
   ]
  },
  {
   "cell_type": "code",
   "execution_count": 79,
   "id": "faec40f4",
   "metadata": {},
   "outputs": [
    {
     "data": {
      "text/plain": [
       "['__class__',\n",
       " '__contains__',\n",
       " '__delattr__',\n",
       " '__delitem__',\n",
       " '__dir__',\n",
       " '__doc__',\n",
       " '__eq__',\n",
       " '__format__',\n",
       " '__ge__',\n",
       " '__getattribute__',\n",
       " '__getitem__',\n",
       " '__gt__',\n",
       " '__hash__',\n",
       " '__init__',\n",
       " '__init_subclass__',\n",
       " '__iter__',\n",
       " '__le__',\n",
       " '__len__',\n",
       " '__lt__',\n",
       " '__ne__',\n",
       " '__new__',\n",
       " '__reduce__',\n",
       " '__reduce_ex__',\n",
       " '__repr__',\n",
       " '__reversed__',\n",
       " '__setattr__',\n",
       " '__setitem__',\n",
       " '__sizeof__',\n",
       " '__str__',\n",
       " '__subclasshook__',\n",
       " 'clear',\n",
       " 'copy',\n",
       " 'fromkeys',\n",
       " 'get',\n",
       " 'items',\n",
       " 'keys',\n",
       " 'pop',\n",
       " 'popitem',\n",
       " 'setdefault',\n",
       " 'update',\n",
       " 'values']"
      ]
     },
     "execution_count": 79,
     "metadata": {},
     "output_type": "execute_result"
    }
   ],
   "source": [
    "dir(dict)"
   ]
  },
  {
   "cell_type": "code",
   "execution_count": 20,
   "id": "5d0c26de",
   "metadata": {},
   "outputs": [
    {
     "name": "stdout",
     "output_type": "stream",
     "text": [
      "Help on method_descriptor:\n",
      "\n",
      "update(...)\n",
      "    D.update([E, ]**F) -> None.  Update D from dict/iterable E and F.\n",
      "    If E is present and has a .keys() method, then does:  for k in E: D[k] = E[k]\n",
      "    If E is present and lacks a .keys() method, then does:  for k, v in E: D[k] = v\n",
      "    In either case, this is followed by: for k in F:  D[k] = F[k]\n",
      "\n"
     ]
    }
   ],
   "source": [
    "help(dict.update)"
   ]
  },
  {
   "cell_type": "markdown",
   "id": "4527931a",
   "metadata": {},
   "source": []
  },
  {
   "cell_type": "code",
   "execution_count": null,
   "id": "a73117e7",
   "metadata": {},
   "outputs": [],
   "source": []
  }
 ],
 "metadata": {
  "kernelspec": {
   "display_name": "Python 3",
   "language": "python",
   "name": "python3"
  },
  "language_info": {
   "codemirror_mode": {
    "name": "ipython",
    "version": 3
   },
   "file_extension": ".py",
   "mimetype": "text/x-python",
   "name": "python",
   "nbconvert_exporter": "python",
   "pygments_lexer": "ipython3",
   "version": "3.13.0"
  }
 },
 "nbformat": 4,
 "nbformat_minor": 5
}
